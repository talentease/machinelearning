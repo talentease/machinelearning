{
 "cells": [
  {
   "cell_type": "code",
   "execution_count": null,
   "metadata": {
    "colab": {
     "base_uri": "https://localhost:8080/"
    },
    "id": "gsxuXrkcz8ZQ",
    "outputId": "9f01583f-7dd0-4336-c9e2-17e33cb0dd5f"
   },
   "outputs": [],
   "source": [
    "import os\n",
    "import pickle\n",
    "import random\n",
    "!pip install nltk\n",
    "import nltk\n",
    "nltk.download('stopwords')\n",
    "!pip install spacy==2.3.5\n",
    "!pip install https://github.com/explosion/spacy-models/releases/download/en_core_web_sm-2.3.1/en_core_web_sm-2.3.1.tar.gz\n",
    "!pip install pyresparser\n",
    "!pip install resume_parser"
   ]
  },
  {
   "cell_type": "code",
   "execution_count": null,
   "metadata": {},
   "outputs": [],
   "source": [
    "nltk.download('stopwords')"
   ]
  },
  {
   "cell_type": "code",
   "execution_count": null,
   "metadata": {},
   "outputs": [],
   "source": [
    "!python -m spacy download en_core_web_md"
   ]
  },
  {
   "cell_type": "code",
   "execution_count": 1,
   "metadata": {
    "id": "YDrMQGm3AbwZ"
   },
   "outputs": [],
   "source": [
    "import spacy\n",
    "#!python -m spacy download en_core_web_md\n",
    "import en_core_web_sm\n",
    "nlp = en_core_web_sm.load()"
   ]
  },
  {
   "cell_type": "code",
   "execution_count": 2,
   "metadata": {
    "id": "0Cz7YhtxQ_Pm"
   },
   "outputs": [],
   "source": [
    "list = []"
   ]
  },
  {
   "cell_type": "code",
   "execution_count": 1,
   "metadata": {
    "id": "m3UnNLOAFSUd"
   },
   "outputs": [],
   "source": [
    "file = 'temp.pdf'"
   ]
  },
  {
   "cell_type": "code",
   "execution_count": 2,
   "metadata": {
    "colab": {
     "base_uri": "https://localhost:8080/"
    },
    "id": "XdEfghbrRJAA",
    "outputId": "2b8264c8-176f-4434-9cf7-72368978b3b0"
   },
   "outputs": [
    {
     "name": "stderr",
     "output_type": "stream",
     "text": [
      "d:\\Anaconda\\envs\\talentease\\lib\\site-packages\\spacy\\util.py:275: UserWarning: [W031] Model 'en_training' (0.0.0) requires spaCy v2.1 and is incompatible with the current spaCy version (2.3.5). This may lead to unexpected results or runtime errors. To resolve this, download a newer compatible model or retrain your custom model with the current spaCy version. For more details and available updates, run: python -m spacy validate\n",
      "  warnings.warn(warn_msg)\n"
     ]
    }
   ],
   "source": [
    "from pyresparser import ResumeParser\n",
    "# from resume_parser import resumeparse\n",
    "data = ResumeParser(file).get_extracted_data()\n",
    "# data = resumeparse.read_file(file)"
   ]
  },
  {
   "cell_type": "code",
   "execution_count": 3,
   "metadata": {
    "colab": {
     "base_uri": "https://localhost:8080/"
    },
    "id": "XslweFD6VfV7",
    "outputId": "4c35749c-a729-4915-e09e-65a5217decf4"
   },
   "outputs": [
    {
     "data": {
      "text/plain": [
       "{'name': 'Muhammad Alfian',\n",
       " 'email': None,\n",
       " 'mobile_number': '855-2078',\n",
       " 'skills': ['Statistics',\n",
       "  'Excel',\n",
       "  'Mining',\n",
       "  'Flask',\n",
       "  'Css',\n",
       "  'Html',\n",
       "  'English',\n",
       "  'Mysql',\n",
       "  'Api',\n",
       "  'Training',\n",
       "  'Github',\n",
       "  'Nosql',\n",
       "  'Machine learning',\n",
       "  'Design',\n",
       "  'Testing',\n",
       "  'Website',\n",
       "  'Analytics',\n",
       "  'Mathematics',\n",
       "  'Writing',\n",
       "  'Analysis',\n",
       "  'Certification',\n",
       "  'Architecture',\n",
       "  'Programming',\n",
       "  'Process',\n",
       "  'Schedule',\n",
       "  'Database',\n",
       "  'Tableau',\n",
       "  'Research',\n",
       "  'Calculus',\n",
       "  'Automation',\n",
       "  'Javascript',\n",
       "  'Tensorflow',\n",
       "  'Python',\n",
       "  'R',\n",
       "  'User experience'],\n",
       " 'college_name': None,\n",
       " 'degree': None,\n",
       " 'designation': None,\n",
       " 'experience': None,\n",
       " 'company_names': None,\n",
       " 'no_of_pages': 1,\n",
       " 'total_experience': 0}"
      ]
     },
     "execution_count": 3,
     "metadata": {},
     "output_type": "execute_result"
    }
   ],
   "source": [
    "data"
   ]
  },
  {
   "cell_type": "code",
   "execution_count": 4,
   "metadata": {},
   "outputs": [
    {
     "data": {
      "text/plain": [
       "['Statistics',\n",
       " 'Excel',\n",
       " 'Mining',\n",
       " 'Flask',\n",
       " 'Css',\n",
       " 'Html',\n",
       " 'English',\n",
       " 'Mysql',\n",
       " 'Api',\n",
       " 'Training',\n",
       " 'Github',\n",
       " 'Nosql',\n",
       " 'Machine learning',\n",
       " 'Design',\n",
       " 'Testing',\n",
       " 'Website',\n",
       " 'Analytics',\n",
       " 'Mathematics',\n",
       " 'Writing',\n",
       " 'Analysis',\n",
       " 'Certification',\n",
       " 'Architecture',\n",
       " 'Programming',\n",
       " 'Process',\n",
       " 'Schedule',\n",
       " 'Database',\n",
       " 'Tableau',\n",
       " 'Research',\n",
       " 'Calculus',\n",
       " 'Automation',\n",
       " 'Javascript',\n",
       " 'Tensorflow',\n",
       " 'Python',\n",
       " 'R',\n",
       " 'User experience']"
      ]
     },
     "execution_count": 4,
     "metadata": {},
     "output_type": "execute_result"
    }
   ],
   "source": [
    "data['skills']"
   ]
  },
  {
   "cell_type": "code",
   "execution_count": null,
   "metadata": {},
   "outputs": [],
   "source": []
  }
 ],
 "metadata": {
  "colab": {
   "provenance": []
  },
  "kernelspec": {
   "display_name": "Python 3.9.16 ('talentease')",
   "language": "python",
   "name": "python3"
  },
  "language_info": {
   "codemirror_mode": {
    "name": "ipython",
    "version": 3
   },
   "file_extension": ".py",
   "mimetype": "text/x-python",
   "name": "python",
   "nbconvert_exporter": "python",
   "pygments_lexer": "ipython3",
   "version": "3.9.16"
  },
  "vscode": {
   "interpreter": {
    "hash": "00d6bfbf0318ea386fca9a6f1e34e89dfe01dc0d94f309c9fa2c9daa7692de77"
   }
  }
 },
 "nbformat": 4,
 "nbformat_minor": 1
}
