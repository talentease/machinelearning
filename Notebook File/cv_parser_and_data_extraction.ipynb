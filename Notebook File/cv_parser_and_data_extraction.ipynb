{
  "cells": [
    {
      "cell_type": "markdown",
      "metadata": {
        "id": "4hETHBkC4f-4"
      },
      "source": [
        "# Import the Libraries"
      ]
    },
    {
      "cell_type": "code",
      "execution_count": null,
      "metadata": {
        "id": "rlQ5ZuPAM4w8"
      },
      "outputs": [],
      "source": [
        "#!pip install pdfminer\n",
        "import pdfminer\n",
        "import io\n",
        "from pdfminer.pdfinterp import PDFResourceManager, PDFPageInterpreter\n",
        "from pdfminer.converter import TextConverter\n",
        "from pdfminer.layout import LAParams\n",
        "from pdfminer.pdfpage import PDFPage\n",
        "from io import StringIO"
      ]
    },
    {
      "cell_type": "code",
      "execution_count": null,
      "metadata": {
        "id": "Itr4pZarOGRs"
      },
      "outputs": [],
      "source": [
        "import re\n",
        "import nltk\n",
        "from nltk.tokenize import word_tokenize\n",
        "from nltk.tag import pos_tag\n",
        "from nltk import word_tokenize, pos_tag, ne_chunk"
      ]
    },
    {
      "cell_type": "markdown",
      "metadata": {
        "id": "X81Qhd7b4m3u"
      },
      "source": [
        "# Function to Parsing the Element"
      ]
    },
    {
      "cell_type": "code",
      "execution_count": null,
      "metadata": {
        "id": "6ZN7lIejTbP0"
      },
      "outputs": [],
      "source": [
        "def getName(text):\n",
        "    try:\n",
        "        pattern = re.compile(r'[A-Z][a-zA-Z]*(?: [A-Z][a-zA-Z]*){1,2}')\n",
        "        name = pattern.findall(text)\n",
        "        return name[0] if name else None\n",
        "    except:\n",
        "        return None"
      ]
    },
    {
      "cell_type": "code",
      "execution_count": null,
      "metadata": {
        "id": "BDmbqjsVOKUp"
      },
      "outputs": [],
      "source": [
        "def getPhone(text):\n",
        "    try:\n",
        "        pattern = re.compile(r'([+(]?\\d+[)\\-]?[ \\t\\r\\f\\v]*[(]?\\d{2,}[()\\-]?[ \\t\\r\\f\\v]*\\d{2,}[()\\-]?[ \\t\\r\\f\\v]*\\d*[ \\t\\r\\f\\v]*\\d*[ \\t\\r\\f\\v]*)')\n",
        "        phone = pattern.findall(text)\n",
        "        phone = [re.sub(r'[,.]', '', el) for el in phone if len(re.sub(r'[()\\-.,\\s+]', '', el))>6]\n",
        "        phone = [re.sub(r'\\D$', '', el).strip() for el in phone]\n",
        "        phone = [el for el in phone if len(re.sub(r'\\D','',el)) <= 13 and len(re.sub(r'\\D','',el))>=10]\n",
        "        return phone[0]\n",
        "    except:\n",
        "        return None"
      ]
    },
    {
      "cell_type": "code",
      "execution_count": null,
      "metadata": {
        "id": "QtOOv-_UOXK1"
      },
      "outputs": [],
      "source": [
        "def getEmail(text): \n",
        "    \n",
        "    try:\n",
        "        pattern = re.compile(r'\\S*@\\S*')\n",
        "        email = pattern.findall(text)\n",
        "        return email[0]\n",
        "    except:\n",
        "        return None"
      ]
    },
    {
      "cell_type": "code",
      "execution_count": null,
      "metadata": {
        "id": "0pnzaZSROZE1"
      },
      "outputs": [],
      "source": [
        "def getExperience(sentences):\n",
        "    try:\n",
        "        sen=[]\n",
        "        z=0\n",
        "        for words in sentences:\n",
        "            for i in range(len(words)):\n",
        "                if(words[i][0].lower()=='experience') or (words[i][0].lower()=='internships'):\n",
        "                    index=[z,i]\n",
        "                    break\n",
        "            z+=1\n",
        "        \n",
        "        exp=[]\n",
        "        for i in sentences[index[0]][index[1]+1:]:\n",
        "            if i[0].isalpha() and i[1]=='NNP':\n",
        "                exp.append(i[0])\n",
        "        \n",
        "        return exp        \n",
        "        \n",
        "    except:\n",
        "        return None"
      ]
    },
    {
      "cell_type": "code",
      "execution_count": null,
      "metadata": {
        "id": "AMowHMb0Oa39"
      },
      "outputs": [],
      "source": [
        "def getQual(sentences):\n",
        "    sen=[]\n",
        "    z=0\n",
        "    i2=[]\n",
        "    i1=[]\n",
        "    quals=['school','graduated','graduation','education','college','academy','vocational','university','sma','smk','institute']\n",
        "    for words in sentences:\n",
        "        for i in range(len(words)):\n",
        "            if(words[i][0].lower() in quals):\n",
        "                i1.append(i)\n",
        "                i2.append(z)\n",
        "        z+=1\n",
        "\n",
        "    i2=list(dict.fromkeys(i2))\n",
        "\n",
        "    qual=[]\n",
        "    for i in i2:\n",
        "        if i==i2[0]:\n",
        "            qual.append((\" \".join([sentences[i][k][0] for k in range(i1[0]+1, len(sentences[i]))])))\n",
        "        else:\n",
        "            qual.append((\" \".join([sentences[i][k][0] for k in range(len(sentences[i]))])))\n",
        "        \n",
        "        \n",
        "    return qual"
      ]
    },
    {
      "cell_type": "code",
      "execution_count": null,
      "metadata": {
        "id": "R_nCEw4POdkK"
      },
      "outputs": [],
      "source": [
        "def getSkills(sentences):\n",
        "    try:\n",
        "        sen=[]\n",
        "        z=0\n",
        "        for words in sentences:\n",
        "            for i in range(len(words)):\n",
        "                if(words[i][0].lower()=='skills') and words[i][1]=='NNP':\n",
        "                    index =[z,i]\n",
        "                    break\n",
        "            z+=1\n",
        "\n",
        "        skills=[]\n",
        "        for i in sentences[index[0]][index[1]+1:]:\n",
        "            if i[0].isalpha() and i[1]=='NNP':\n",
        "                skills.append(i[0])\n",
        "\n",
        "        return skills\n",
        "    except:\n",
        "        return None"
      ]
    },
    {
      "cell_type": "code",
      "execution_count": null,
      "metadata": {
        "id": "ZygEHmqOOhh9"
      },
      "outputs": [],
      "source": [
        "def getCertification(sentences):\n",
        "    try:\n",
        "        sen=[]\n",
        "        z=0\n",
        "        global index\n",
        "        for words in sentences:\n",
        "            for i in range(len(words)):\n",
        "                if(words[i][0].lower()=='certifications'):\n",
        "                    index=[z,i]\n",
        "                    break\n",
        "            z+=1\n",
        "\n",
        "        certis=\" \".join([sentences[index[0]][k][0] for k in range(1,len(sentences[index[0]]))])\n",
        "\n",
        "        return certis\n",
        "    except:\n",
        "        return None"
      ]
    },
    {
      "cell_type": "code",
      "execution_count": null,
      "metadata": {
        "id": "fbx2TewjOkYY"
      },
      "outputs": [],
      "source": [
        "def getDetails(text):\n",
        "    \n",
        "    sentences=nltk.sent_tokenize(text)\n",
        "    sentences=[nltk.word_tokenize(el) for el in sentences]\n",
        "    sentences=[nltk.pos_tag(el) for el in sentences]\n",
        "    name=getName(text)\n",
        "    phone=getPhone(text)\n",
        "    mail=getEmail(text)\n",
        "    exp=getExperience(sentences)\n",
        "    quals=getQual(sentences)\n",
        "    skills=getSkills(sentences)\n",
        "    certis=getCertification(sentences)\n",
        "    dict={\n",
        "        'Name': name,\n",
        "        'Phone_no': phone,\n",
        "        'Email':mail,\n",
        "        'Experience': exp,\n",
        "        'Qualification':quals,\n",
        "        'Skills': skills,\n",
        "        'Certifications': certis\n",
        "    }\n",
        "    return dict"
      ]
    },
    {
      "cell_type": "markdown",
      "metadata": {
        "id": "Ug7TrAU-2sSa"
      },
      "source": [
        "# Testing Using CV"
      ]
    },
    {
      "cell_type": "code",
      "execution_count": null,
      "metadata": {
        "id": "56lsPhMbudm8"
      },
      "outputs": [],
      "source": [
        "#!pip install textract\n",
        "import textract\n",
        "def extract_text_from_pdf(file_path):\n",
        "    text = textract.process(file_path, method='pdfminer')\n",
        "    text = text.decode('utf-8')\n",
        "    return text\n",
        "text=extract_text_from_pdf('/content/drive/MyDrive/Colab Notebooks/dataset/USC-Kaufman-Dance-Resume-Sample-2020-2021.pdf')   # Enter the path to the resume here"
      ]
    },
    {
      "cell_type": "code",
      "execution_count": null,
      "metadata": {
        "id": "XLEeaPykudm8"
      },
      "outputs": [],
      "source": [
        "#nltk.download('punkt')\n",
        "#nltk.download('averaged_perceptron_tagger')\n",
        "details=getDetails(text)"
      ]
    },
    {
      "cell_type": "code",
      "execution_count": null,
      "metadata": {
        "colab": {
          "base_uri": "https://localhost:8080/"
        },
        "id": "llevz-MGQEgg",
        "outputId": "ca02ebc6-5f36-42ee-ec9e-16c895ebab74"
      },
      "outputs": [
        {
          "data": {
            "text/plain": [
              "dict_keys(['Name', 'Phone_no', 'Email', 'Experience', 'Qualification', 'Skills', 'Certifications'])"
            ]
          },
          "execution_count": 75,
          "metadata": {},
          "output_type": "execute_result"
        }
      ],
      "source": [
        "details.keys()"
      ]
    },
    {
      "cell_type": "code",
      "execution_count": null,
      "metadata": {
        "colab": {
          "base_uri": "https://localhost:8080/"
        },
        "id": "19nbyK1VQGZw",
        "outputId": "8cfd3a61-d948-48ae-b21d-ba7520f22371"
      },
      "outputs": [
        {
          "data": {
            "text/plain": [
              "{'Name': 'TOMMY TROJAN',\n",
              " 'Phone_no': '(213) 821-6725',\n",
              " 'Email': 'tommytrojan@gmail.com',\n",
              " 'Experience': ['Los',\n",
              "  'Angeles',\n",
              "  'School',\n",
              "  'Dance',\n",
              "  'Annual',\n",
              "  'Recital',\n",
              "  'Nutcracker',\n",
              "  'Los',\n",
              "  'Angeles',\n",
              "  'School',\n",
              "  'Dance',\n",
              "  'Fritz',\n",
              "  'Spanish',\n",
              "  'Cavalier',\n",
              "  'Prince',\n",
              "  'Nutcracker',\n",
              "  'Prince',\n",
              "  'Ultimate',\n",
              "  'Dance',\n",
              "  'California',\n",
              "  'Performing',\n",
              "  'Arts',\n",
              "  'High',\n",
              "  'School',\n",
              "  'Annual',\n",
              "  'Talent',\n",
              "  'Show',\n",
              "  'Verge',\n",
              "  'Studio',\n",
              "  'Summer',\n",
              "  'Intensive',\n",
              "  'Romeo',\n",
              "  'Juliet',\n",
              "  'American',\n",
              "  'Ballet',\n",
              "  'Center',\n",
              "  'Summer',\n",
              "  'Intensive',\n",
              "  'Mercutio',\n",
              "  'CHOREOGRAPHIC',\n",
              "  'EXPERIENCE',\n",
              "  'Gravity',\n",
              "  'California',\n",
              "  'High',\n",
              "  'School',\n",
              "  'Annual',\n",
              "  'Talent',\n",
              "  'Show',\n",
              "  'California',\n",
              "  'High',\n",
              "  'School',\n",
              "  'Annual',\n",
              "  'Talent',\n",
              "  'Show',\n",
              "  'Mirrors',\n",
              "  'Ultimate',\n",
              "  'Dance',\n",
              "  'Me',\n",
              "  'Love',\n",
              "  'California',\n",
              "  'High',\n",
              "  'School',\n",
              "  'Annual',\n",
              "  'Talent',\n",
              "  'Show',\n",
              "  'AWARDS',\n",
              "  'SCHOLARSHIPS',\n",
              "  'Full',\n",
              "  'American',\n",
              "  'Ballet',\n",
              "  'Center',\n",
              "  'Summer',\n",
              "  'Intensive',\n",
              "  'Most',\n",
              "  'Valuable',\n",
              "  'Dancer',\n",
              "  'Los',\n",
              "  'Angeles',\n",
              "  'School',\n",
              "  'Dance',\n",
              "  'Place',\n",
              "  'Teen',\n",
              "  'Solo',\n",
              "  'Ultimate',\n",
              "  'Dance',\n",
              "  'Place',\n",
              "  'California',\n",
              "  'Performing',\n",
              "  'Arts',\n",
              "  'High',\n",
              "  'School',\n",
              "  'Annual',\n",
              "  'Talent',\n",
              "  'Show',\n",
              "  'Place',\n",
              "  'California',\n",
              "  'Performing',\n",
              "  'Arts',\n",
              "  'High',\n",
              "  'School',\n",
              "  'Annual',\n",
              "  'Talent',\n",
              "  'Show',\n",
              "  'OTHER',\n",
              "  'ACTIVITIES',\n",
              "  'Founder',\n",
              "  'President',\n",
              "  'California',\n",
              "  'Performing',\n",
              "  'Arts',\n",
              "  'High',\n",
              "  'School',\n",
              "  'ASB',\n",
              "  'Spirit',\n",
              "  'Commissioner',\n",
              "  'Acting',\n",
              "  'Volunteer',\n",
              "  'Best',\n",
              "  'Buds'],\n",
              " 'Qualification': ['of Dance with the goal of becoming a visionary choreographer for the screen .',\n",
              "  'EDUCATION California Performing Arts High School , Los Angeles , CA Weighted GPA : 4.1/4.0 Un-weighted GPA : 3.7/4.0 SAT : Will not be submitting DANCE TRAINING Ballet Jazz Contemporary Hip-Hop Summer Programs : 09/2007-Present Los Angeles School of Dance Joaquin LeTour Los Angeles School of Dance Candice Love 09/2009-Present Los Angeles School of Dance Laura Bensimon 09/2011-Present Verge Studio 09/2013-Present 6 hours/week 2 hours/week 4 hours/week 4 hours/week 09/2017-06/2021 Jeff Allen § Red Brick University 6-Week Summer Intensive ( New York , NY ) : 2017 § American Ballet Center 6-Week Summer Intensive ( New York , NY ) : 2018 , 2019 § Verge Studio Hip-Hop 4-Week Summer Intensive ( Los Angeles , CA ) : 2018 § Online USC Kaufman School of Dance 6-Week Summer Intensive ( Los Angeles , CA ) : 2020 PERFORMANCE EXPERIENCE § Los Angeles School of Dance Annual Recital : 2008-2020 ( solo and ensemble performances ) § The Nutcracker , Los Angeles School of Dance : 2016-2020 ( Fritz , Spanish , Cavalier , Prince , Nutcracker Prince ) § The Ultimate Dance Competition : 2019 ( solo performance ) § California Performing Arts High School Annual Talent Show : 2017-2020 ( solo and ensemble performances ) § Verge Studio Summer Intensive final performance : 2019 ( solo and ensemble performances ) § Romeo and Juliet , American Ballet Center Summer Intensive final performance : 2017 ( Mercutio ) CHOREOGRAPHIC EXPERIENCE § Gravity ( contemporary solo ) , California High School Annual Talent Show : 2017 § Because of You ( hip-hop solo ) , California High School Annual Talent Show : 2018 § Mirrors ( jazz solo ) , The Ultimate Dance Competition : 2019 § Let Me Love You ( hip-hop piece for 8 dancers ) , California High School Annual Talent Show : 2020 AWARDS & SCHOLARSHIPS § Full scholarship , American Ballet Center Summer Intensive : 2018 , 2019 § Most Valuable Dancer , Los Angeles School of Dance : 2019 § § § 2nd Place ( Teen Solo ) , The Ultimate Dance Competition : 2019 1st Place , California Performing Arts High School Annual Talent Show : 2020 2nd Place , California Performing Arts High School Annual Talent Show : 2018 , 2019 OTHER ACTIVITIES § Founder & President of California Performing Arts High School “ H2C ” hip-hop crew : 2017-Present § ASB Spirit Commissioner : 2018-2019 § Acting in various school plays : 2017-Present § Volunteer for Best Buds club that promotes friendships with intellectually disabled students : 2017-Present'],\n",
              " 'Skills': None,\n",
              " 'Certifications': None}"
            ]
          },
          "execution_count": 76,
          "metadata": {},
          "output_type": "execute_result"
        }
      ],
      "source": [
        "details"
      ]
    }
  ],
  "metadata": {
    "colab": {
      "provenance": []
    },
    "kernelspec": {
      "display_name": "Python 3.9.16 ('talentease')",
      "language": "python",
      "name": "python3"
    },
    "language_info": {
      "name": "python",
      "version": "3.9.16"
    },
    "vscode": {
      "interpreter": {
        "hash": "00d6bfbf0318ea386fca9a6f1e34e89dfe01dc0d94f309c9fa2c9daa7692de77"
      }
    }
  },
  "nbformat": 4,
  "nbformat_minor": 0
}
