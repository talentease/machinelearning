{
  "cells": [
    {
      "cell_type": "markdown",
      "id": "6e15fbd7",
      "metadata": {
        "id": "6e15fbd7"
      },
      "source": [
        "# OCR For Text Extraction\n",
        "---\n",
        "## 1. Installing Packages & Import Modules\n",
        "Packages required to do text extraction are:\\\n",
        "- **TensorFlow**\n",
        ": Text detection and text recognition model builder\n",
        "- **DocTR [TensorFlow]**\n",
        ": OCR logic handler, used for extracting textual information from document or images. Powered in TensorFlow2\n",
        "- **PyPDF2**\n",
        ": PDF document handler, capable of retrieve text and metadata from PDFs\n",
        "- **PyFDPF**\n",
        ": PyFPDF is a library for PDF document generation under Python"
      ]
    },
    {
      "cell_type": "code",
      "execution_count": 82,
      "id": "578a5b47",
      "metadata": {
        "colab": {
          "base_uri": "https://localhost:8080/"
        },
        "id": "578a5b47",
        "outputId": "e1667a0a-a720-440d-f3b8-cd784fcadbe1"
      },
      "outputs": [
        {
          "output_type": "stream",
          "name": "stdout",
          "text": [
            "Looking in indexes: https://pypi.org/simple, https://us-python.pkg.dev/colab-wheels/public/simple/\n",
            "Requirement already satisfied: tensorflow in /usr/local/lib/python3.10/dist-packages (2.12.0)\n",
            "Requirement already satisfied: absl-py>=1.0.0 in /usr/local/lib/python3.10/dist-packages (from tensorflow) (1.4.0)\n",
            "Requirement already satisfied: astunparse>=1.6.0 in /usr/local/lib/python3.10/dist-packages (from tensorflow) (1.6.3)\n",
            "Requirement already satisfied: flatbuffers>=2.0 in /usr/local/lib/python3.10/dist-packages (from tensorflow) (2.0.7)\n",
            "Requirement already satisfied: gast<=0.4.0,>=0.2.1 in /usr/local/lib/python3.10/dist-packages (from tensorflow) (0.4.0)\n",
            "Requirement already satisfied: google-pasta>=0.1.1 in /usr/local/lib/python3.10/dist-packages (from tensorflow) (0.2.0)\n",
            "Requirement already satisfied: grpcio<2.0,>=1.24.3 in /usr/local/lib/python3.10/dist-packages (from tensorflow) (1.54.0)\n",
            "Requirement already satisfied: h5py>=2.9.0 in /usr/local/lib/python3.10/dist-packages (from tensorflow) (3.8.0)\n",
            "Requirement already satisfied: jax>=0.3.15 in /usr/local/lib/python3.10/dist-packages (from tensorflow) (0.4.10)\n",
            "Requirement already satisfied: keras<2.13,>=2.12.0 in /usr/local/lib/python3.10/dist-packages (from tensorflow) (2.12.0)\n",
            "Requirement already satisfied: libclang>=13.0.0 in /usr/local/lib/python3.10/dist-packages (from tensorflow) (16.0.0)\n",
            "Requirement already satisfied: numpy<1.24,>=1.22 in /usr/local/lib/python3.10/dist-packages (from tensorflow) (1.22.4)\n",
            "Requirement already satisfied: opt-einsum>=2.3.2 in /usr/local/lib/python3.10/dist-packages (from tensorflow) (3.3.0)\n",
            "Requirement already satisfied: packaging in /usr/local/lib/python3.10/dist-packages (from tensorflow) (23.1)\n",
            "Requirement already satisfied: protobuf!=4.21.0,!=4.21.1,!=4.21.2,!=4.21.3,!=4.21.4,!=4.21.5,<5.0.0dev,>=3.20.3 in /usr/local/lib/python3.10/dist-packages (from tensorflow) (3.20.3)\n",
            "Requirement already satisfied: setuptools in /usr/local/lib/python3.10/dist-packages (from tensorflow) (67.7.2)\n",
            "Requirement already satisfied: six>=1.12.0 in /usr/local/lib/python3.10/dist-packages (from tensorflow) (1.16.0)\n",
            "Requirement already satisfied: tensorboard<2.13,>=2.12 in /usr/local/lib/python3.10/dist-packages (from tensorflow) (2.12.2)\n",
            "Requirement already satisfied: tensorflow-estimator<2.13,>=2.12.0 in /usr/local/lib/python3.10/dist-packages (from tensorflow) (2.12.0)\n",
            "Requirement already satisfied: termcolor>=1.1.0 in /usr/local/lib/python3.10/dist-packages (from tensorflow) (2.3.0)\n",
            "Requirement already satisfied: typing-extensions>=3.6.6 in /usr/local/lib/python3.10/dist-packages (from tensorflow) (4.5.0)\n",
            "Requirement already satisfied: wrapt<1.15,>=1.11.0 in /usr/local/lib/python3.10/dist-packages (from tensorflow) (1.14.1)\n",
            "Requirement already satisfied: tensorflow-io-gcs-filesystem>=0.23.1 in /usr/local/lib/python3.10/dist-packages (from tensorflow) (0.32.0)\n",
            "Requirement already satisfied: wheel<1.0,>=0.23.0 in /usr/local/lib/python3.10/dist-packages (from astunparse>=1.6.0->tensorflow) (0.40.0)\n",
            "Requirement already satisfied: ml-dtypes>=0.1.0 in /usr/local/lib/python3.10/dist-packages (from jax>=0.3.15->tensorflow) (0.1.0)\n",
            "Requirement already satisfied: scipy>=1.7 in /usr/local/lib/python3.10/dist-packages (from jax>=0.3.15->tensorflow) (1.10.1)\n",
            "Requirement already satisfied: google-auth<3,>=1.6.3 in /usr/local/lib/python3.10/dist-packages (from tensorboard<2.13,>=2.12->tensorflow) (2.17.3)\n",
            "Requirement already satisfied: google-auth-oauthlib<1.1,>=0.5 in /usr/local/lib/python3.10/dist-packages (from tensorboard<2.13,>=2.12->tensorflow) (1.0.0)\n",
            "Requirement already satisfied: markdown>=2.6.8 in /usr/local/lib/python3.10/dist-packages (from tensorboard<2.13,>=2.12->tensorflow) (3.4.3)\n",
            "Requirement already satisfied: requests<3,>=2.21.0 in /usr/local/lib/python3.10/dist-packages (from tensorboard<2.13,>=2.12->tensorflow) (2.27.1)\n",
            "Requirement already satisfied: tensorboard-data-server<0.8.0,>=0.7.0 in /usr/local/lib/python3.10/dist-packages (from tensorboard<2.13,>=2.12->tensorflow) (0.7.0)\n",
            "Requirement already satisfied: tensorboard-plugin-wit>=1.6.0 in /usr/local/lib/python3.10/dist-packages (from tensorboard<2.13,>=2.12->tensorflow) (1.8.1)\n",
            "Requirement already satisfied: werkzeug>=1.0.1 in /usr/local/lib/python3.10/dist-packages (from tensorboard<2.13,>=2.12->tensorflow) (2.3.0)\n",
            "Requirement already satisfied: cachetools<6.0,>=2.0.0 in /usr/local/lib/python3.10/dist-packages (from google-auth<3,>=1.6.3->tensorboard<2.13,>=2.12->tensorflow) (5.3.0)\n",
            "Requirement already satisfied: pyasn1-modules>=0.2.1 in /usr/local/lib/python3.10/dist-packages (from google-auth<3,>=1.6.3->tensorboard<2.13,>=2.12->tensorflow) (0.3.0)\n",
            "Requirement already satisfied: rsa<5,>=3.1.4 in /usr/local/lib/python3.10/dist-packages (from google-auth<3,>=1.6.3->tensorboard<2.13,>=2.12->tensorflow) (4.9)\n",
            "Requirement already satisfied: requests-oauthlib>=0.7.0 in /usr/local/lib/python3.10/dist-packages (from google-auth-oauthlib<1.1,>=0.5->tensorboard<2.13,>=2.12->tensorflow) (1.3.1)\n",
            "Requirement already satisfied: urllib3<1.27,>=1.21.1 in /usr/local/lib/python3.10/dist-packages (from requests<3,>=2.21.0->tensorboard<2.13,>=2.12->tensorflow) (1.26.15)\n",
            "Requirement already satisfied: certifi>=2017.4.17 in /usr/local/lib/python3.10/dist-packages (from requests<3,>=2.21.0->tensorboard<2.13,>=2.12->tensorflow) (2022.12.7)\n",
            "Requirement already satisfied: charset-normalizer~=2.0.0 in /usr/local/lib/python3.10/dist-packages (from requests<3,>=2.21.0->tensorboard<2.13,>=2.12->tensorflow) (2.0.12)\n",
            "Requirement already satisfied: idna<4,>=2.5 in /usr/local/lib/python3.10/dist-packages (from requests<3,>=2.21.0->tensorboard<2.13,>=2.12->tensorflow) (3.4)\n",
            "Requirement already satisfied: MarkupSafe>=2.1.1 in /usr/local/lib/python3.10/dist-packages (from werkzeug>=1.0.1->tensorboard<2.13,>=2.12->tensorflow) (2.1.2)\n",
            "Requirement already satisfied: pyasn1<0.6.0,>=0.4.6 in /usr/local/lib/python3.10/dist-packages (from pyasn1-modules>=0.2.1->google-auth<3,>=1.6.3->tensorboard<2.13,>=2.12->tensorflow) (0.5.0)\n",
            "Requirement already satisfied: oauthlib>=3.0.0 in /usr/local/lib/python3.10/dist-packages (from requests-oauthlib>=0.7.0->google-auth-oauthlib<1.1,>=0.5->tensorboard<2.13,>=2.12->tensorflow) (3.2.2)\n",
            "Looking in indexes: https://pypi.org/simple, https://us-python.pkg.dev/colab-wheels/public/simple/\n",
            "Requirement already satisfied: python-doctr[tf] in /usr/local/lib/python3.10/dist-packages (0.6.0)\n",
            "Requirement already satisfied: importlib-metadata in /usr/local/lib/python3.10/dist-packages (from python-doctr[tf]) (6.6.0)\n",
            "Requirement already satisfied: numpy<2.0.0,>=1.16.0 in /usr/local/lib/python3.10/dist-packages (from python-doctr[tf]) (1.22.4)\n",
            "Requirement already satisfied: scipy<2.0.0,>=1.4.0 in /usr/local/lib/python3.10/dist-packages (from python-doctr[tf]) (1.10.1)\n",
            "Requirement already satisfied: h5py<4.0.0,>=3.1.0 in /usr/local/lib/python3.10/dist-packages (from python-doctr[tf]) (3.8.0)\n",
            "Requirement already satisfied: opencv-python<5.0.0,>=4.5.0 in /usr/local/lib/python3.10/dist-packages (from python-doctr[tf]) (4.7.0.72)\n",
            "Requirement already satisfied: pypdfium2<4.0.0,>=3.0.0 in /usr/local/lib/python3.10/dist-packages (from python-doctr[tf]) (3.21.1)\n",
            "Requirement already satisfied: pyclipper<2.0.0,>=1.2.0 in /usr/local/lib/python3.10/dist-packages (from python-doctr[tf]) (1.3.0.post4)\n",
            "Requirement already satisfied: shapely<2.0.0,>=1.6.0 in /usr/local/lib/python3.10/dist-packages (from python-doctr[tf]) (1.8.5.post1)\n",
            "Requirement already satisfied: langdetect<2.0.0,>=1.0.9 in /usr/local/lib/python3.10/dist-packages (from python-doctr[tf]) (1.0.9)\n",
            "Requirement already satisfied: matplotlib>=3.1.0 in /usr/local/lib/python3.10/dist-packages (from python-doctr[tf]) (3.7.1)\n",
            "Requirement already satisfied: weasyprint>=55.0 in /usr/local/lib/python3.10/dist-packages (from python-doctr[tf]) (59.0)\n",
            "Requirement already satisfied: Pillow>=8.3.2 in /usr/local/lib/python3.10/dist-packages (from python-doctr[tf]) (9.5.0)\n",
            "Requirement already satisfied: defusedxml>=0.7.0 in /usr/local/lib/python3.10/dist-packages (from python-doctr[tf]) (0.7.1)\n",
            "Requirement already satisfied: mplcursors>=0.3 in /usr/local/lib/python3.10/dist-packages (from python-doctr[tf]) (0.5.2)\n",
            "Requirement already satisfied: unidecode>=1.0.0 in /usr/local/lib/python3.10/dist-packages (from python-doctr[tf]) (1.3.6)\n",
            "Requirement already satisfied: tqdm>=4.30.0 in /usr/local/lib/python3.10/dist-packages (from python-doctr[tf]) (4.65.0)\n",
            "Requirement already satisfied: rapidfuzz>=1.6.0 in /usr/local/lib/python3.10/dist-packages (from python-doctr[tf]) (2.15.1)\n",
            "Requirement already satisfied: huggingface-hub>=0.4.0 in /usr/local/lib/python3.10/dist-packages (from python-doctr[tf]) (0.15.1)\n",
            "Requirement already satisfied: tensorflow<3.0.0,>=2.9.0 in /usr/local/lib/python3.10/dist-packages (from python-doctr[tf]) (2.12.0)\n",
            "Requirement already satisfied: tensorflow-addons>=0.17.1 in /usr/local/lib/python3.10/dist-packages (from python-doctr[tf]) (0.20.0)\n",
            "Requirement already satisfied: tf2onnx>=1.9.2 in /usr/local/lib/python3.10/dist-packages (from python-doctr[tf]) (1.14.0)\n",
            "Requirement already satisfied: filelock in /usr/local/lib/python3.10/dist-packages (from huggingface-hub>=0.4.0->python-doctr[tf]) (3.12.0)\n",
            "Requirement already satisfied: fsspec in /usr/local/lib/python3.10/dist-packages (from huggingface-hub>=0.4.0->python-doctr[tf]) (2023.4.0)\n",
            "Requirement already satisfied: requests in /usr/local/lib/python3.10/dist-packages (from huggingface-hub>=0.4.0->python-doctr[tf]) (2.27.1)\n",
            "Requirement already satisfied: pyyaml>=5.1 in /usr/local/lib/python3.10/dist-packages (from huggingface-hub>=0.4.0->python-doctr[tf]) (6.0)\n",
            "Requirement already satisfied: typing-extensions>=3.7.4.3 in /usr/local/lib/python3.10/dist-packages (from huggingface-hub>=0.4.0->python-doctr[tf]) (4.5.0)\n",
            "Requirement already satisfied: packaging>=20.9 in /usr/local/lib/python3.10/dist-packages (from huggingface-hub>=0.4.0->python-doctr[tf]) (23.1)\n",
            "Requirement already satisfied: six in /usr/local/lib/python3.10/dist-packages (from langdetect<2.0.0,>=1.0.9->python-doctr[tf]) (1.16.0)\n",
            "Requirement already satisfied: contourpy>=1.0.1 in /usr/local/lib/python3.10/dist-packages (from matplotlib>=3.1.0->python-doctr[tf]) (1.0.7)\n",
            "Requirement already satisfied: cycler>=0.10 in /usr/local/lib/python3.10/dist-packages (from matplotlib>=3.1.0->python-doctr[tf]) (0.11.0)\n",
            "Requirement already satisfied: fonttools>=4.22.0 in /usr/local/lib/python3.10/dist-packages (from matplotlib>=3.1.0->python-doctr[tf]) (4.39.3)\n",
            "Requirement already satisfied: kiwisolver>=1.0.1 in /usr/local/lib/python3.10/dist-packages (from matplotlib>=3.1.0->python-doctr[tf]) (1.4.4)\n",
            "Requirement already satisfied: pyparsing>=2.3.1 in /usr/local/lib/python3.10/dist-packages (from matplotlib>=3.1.0->python-doctr[tf]) (3.0.9)\n",
            "Requirement already satisfied: python-dateutil>=2.7 in /usr/local/lib/python3.10/dist-packages (from matplotlib>=3.1.0->python-doctr[tf]) (2.8.2)\n",
            "Requirement already satisfied: absl-py>=1.0.0 in /usr/local/lib/python3.10/dist-packages (from tensorflow<3.0.0,>=2.9.0->python-doctr[tf]) (1.4.0)\n",
            "Requirement already satisfied: astunparse>=1.6.0 in /usr/local/lib/python3.10/dist-packages (from tensorflow<3.0.0,>=2.9.0->python-doctr[tf]) (1.6.3)\n",
            "Requirement already satisfied: flatbuffers>=2.0 in /usr/local/lib/python3.10/dist-packages (from tensorflow<3.0.0,>=2.9.0->python-doctr[tf]) (2.0.7)\n",
            "Requirement already satisfied: gast<=0.4.0,>=0.2.1 in /usr/local/lib/python3.10/dist-packages (from tensorflow<3.0.0,>=2.9.0->python-doctr[tf]) (0.4.0)\n",
            "Requirement already satisfied: google-pasta>=0.1.1 in /usr/local/lib/python3.10/dist-packages (from tensorflow<3.0.0,>=2.9.0->python-doctr[tf]) (0.2.0)\n",
            "Requirement already satisfied: grpcio<2.0,>=1.24.3 in /usr/local/lib/python3.10/dist-packages (from tensorflow<3.0.0,>=2.9.0->python-doctr[tf]) (1.54.0)\n",
            "Requirement already satisfied: jax>=0.3.15 in /usr/local/lib/python3.10/dist-packages (from tensorflow<3.0.0,>=2.9.0->python-doctr[tf]) (0.4.10)\n",
            "Requirement already satisfied: keras<2.13,>=2.12.0 in /usr/local/lib/python3.10/dist-packages (from tensorflow<3.0.0,>=2.9.0->python-doctr[tf]) (2.12.0)\n",
            "Requirement already satisfied: libclang>=13.0.0 in /usr/local/lib/python3.10/dist-packages (from tensorflow<3.0.0,>=2.9.0->python-doctr[tf]) (16.0.0)\n",
            "Requirement already satisfied: opt-einsum>=2.3.2 in /usr/local/lib/python3.10/dist-packages (from tensorflow<3.0.0,>=2.9.0->python-doctr[tf]) (3.3.0)\n",
            "Requirement already satisfied: protobuf!=4.21.0,!=4.21.1,!=4.21.2,!=4.21.3,!=4.21.4,!=4.21.5,<5.0.0dev,>=3.20.3 in /usr/local/lib/python3.10/dist-packages (from tensorflow<3.0.0,>=2.9.0->python-doctr[tf]) (3.20.3)\n",
            "Requirement already satisfied: setuptools in /usr/local/lib/python3.10/dist-packages (from tensorflow<3.0.0,>=2.9.0->python-doctr[tf]) (67.7.2)\n",
            "Requirement already satisfied: tensorboard<2.13,>=2.12 in /usr/local/lib/python3.10/dist-packages (from tensorflow<3.0.0,>=2.9.0->python-doctr[tf]) (2.12.2)\n",
            "Requirement already satisfied: tensorflow-estimator<2.13,>=2.12.0 in /usr/local/lib/python3.10/dist-packages (from tensorflow<3.0.0,>=2.9.0->python-doctr[tf]) (2.12.0)\n",
            "Requirement already satisfied: termcolor>=1.1.0 in /usr/local/lib/python3.10/dist-packages (from tensorflow<3.0.0,>=2.9.0->python-doctr[tf]) (2.3.0)\n",
            "Requirement already satisfied: wrapt<1.15,>=1.11.0 in /usr/local/lib/python3.10/dist-packages (from tensorflow<3.0.0,>=2.9.0->python-doctr[tf]) (1.14.1)\n",
            "Requirement already satisfied: tensorflow-io-gcs-filesystem>=0.23.1 in /usr/local/lib/python3.10/dist-packages (from tensorflow<3.0.0,>=2.9.0->python-doctr[tf]) (0.32.0)\n",
            "Requirement already satisfied: typeguard<3.0.0,>=2.7 in /usr/local/lib/python3.10/dist-packages (from tensorflow-addons>=0.17.1->python-doctr[tf]) (2.13.3)\n",
            "Requirement already satisfied: onnx>=1.4.1 in /usr/local/lib/python3.10/dist-packages (from tf2onnx>=1.9.2->python-doctr[tf]) (1.14.0)\n",
            "Requirement already satisfied: pydyf>=0.6.0 in /usr/local/lib/python3.10/dist-packages (from weasyprint>=55.0->python-doctr[tf]) (0.6.0)\n",
            "Requirement already satisfied: cffi>=0.6 in /usr/local/lib/python3.10/dist-packages (from weasyprint>=55.0->python-doctr[tf]) (1.15.1)\n",
            "Requirement already satisfied: html5lib>=1.1 in /usr/local/lib/python3.10/dist-packages (from weasyprint>=55.0->python-doctr[tf]) (1.1)\n",
            "Requirement already satisfied: tinycss2>=1.0.0 in /usr/local/lib/python3.10/dist-packages (from weasyprint>=55.0->python-doctr[tf]) (1.2.1)\n",
            "Requirement already satisfied: cssselect2>=0.1 in /usr/local/lib/python3.10/dist-packages (from weasyprint>=55.0->python-doctr[tf]) (0.7.0)\n",
            "Requirement already satisfied: Pyphen>=0.9.1 in /usr/local/lib/python3.10/dist-packages (from weasyprint>=55.0->python-doctr[tf]) (0.14.0)\n",
            "Requirement already satisfied: zipp>=0.5 in /usr/local/lib/python3.10/dist-packages (from importlib-metadata->python-doctr[tf]) (3.15.0)\n",
            "Requirement already satisfied: wheel<1.0,>=0.23.0 in /usr/local/lib/python3.10/dist-packages (from astunparse>=1.6.0->tensorflow<3.0.0,>=2.9.0->python-doctr[tf]) (0.40.0)\n",
            "Requirement already satisfied: pycparser in /usr/local/lib/python3.10/dist-packages (from cffi>=0.6->weasyprint>=55.0->python-doctr[tf]) (2.21)\n",
            "Requirement already satisfied: webencodings in /usr/local/lib/python3.10/dist-packages (from cssselect2>=0.1->weasyprint>=55.0->python-doctr[tf]) (0.5.1)\n",
            "Requirement already satisfied: zopfli>=0.1.4 in /usr/local/lib/python3.10/dist-packages (from fonttools>=4.22.0->matplotlib>=3.1.0->python-doctr[tf]) (0.2.2)\n",
            "Requirement already satisfied: brotli>=1.0.1 in /usr/local/lib/python3.10/dist-packages (from fonttools>=4.22.0->matplotlib>=3.1.0->python-doctr[tf]) (1.0.9)\n",
            "Requirement already satisfied: ml-dtypes>=0.1.0 in /usr/local/lib/python3.10/dist-packages (from jax>=0.3.15->tensorflow<3.0.0,>=2.9.0->python-doctr[tf]) (0.1.0)\n",
            "Requirement already satisfied: google-auth<3,>=1.6.3 in /usr/local/lib/python3.10/dist-packages (from tensorboard<2.13,>=2.12->tensorflow<3.0.0,>=2.9.0->python-doctr[tf]) (2.17.3)\n",
            "Requirement already satisfied: google-auth-oauthlib<1.1,>=0.5 in /usr/local/lib/python3.10/dist-packages (from tensorboard<2.13,>=2.12->tensorflow<3.0.0,>=2.9.0->python-doctr[tf]) (1.0.0)\n",
            "Requirement already satisfied: markdown>=2.6.8 in /usr/local/lib/python3.10/dist-packages (from tensorboard<2.13,>=2.12->tensorflow<3.0.0,>=2.9.0->python-doctr[tf]) (3.4.3)\n",
            "Requirement already satisfied: tensorboard-data-server<0.8.0,>=0.7.0 in /usr/local/lib/python3.10/dist-packages (from tensorboard<2.13,>=2.12->tensorflow<3.0.0,>=2.9.0->python-doctr[tf]) (0.7.0)\n",
            "Requirement already satisfied: tensorboard-plugin-wit>=1.6.0 in /usr/local/lib/python3.10/dist-packages (from tensorboard<2.13,>=2.12->tensorflow<3.0.0,>=2.9.0->python-doctr[tf]) (1.8.1)\n",
            "Requirement already satisfied: werkzeug>=1.0.1 in /usr/local/lib/python3.10/dist-packages (from tensorboard<2.13,>=2.12->tensorflow<3.0.0,>=2.9.0->python-doctr[tf]) (2.3.0)\n",
            "Requirement already satisfied: urllib3<1.27,>=1.21.1 in /usr/local/lib/python3.10/dist-packages (from requests->huggingface-hub>=0.4.0->python-doctr[tf]) (1.26.15)\n",
            "Requirement already satisfied: certifi>=2017.4.17 in /usr/local/lib/python3.10/dist-packages (from requests->huggingface-hub>=0.4.0->python-doctr[tf]) (2022.12.7)\n",
            "Requirement already satisfied: charset-normalizer~=2.0.0 in /usr/local/lib/python3.10/dist-packages (from requests->huggingface-hub>=0.4.0->python-doctr[tf]) (2.0.12)\n",
            "Requirement already satisfied: idna<4,>=2.5 in /usr/local/lib/python3.10/dist-packages (from requests->huggingface-hub>=0.4.0->python-doctr[tf]) (3.4)\n",
            "Requirement already satisfied: cachetools<6.0,>=2.0.0 in /usr/local/lib/python3.10/dist-packages (from google-auth<3,>=1.6.3->tensorboard<2.13,>=2.12->tensorflow<3.0.0,>=2.9.0->python-doctr[tf]) (5.3.0)\n",
            "Requirement already satisfied: pyasn1-modules>=0.2.1 in /usr/local/lib/python3.10/dist-packages (from google-auth<3,>=1.6.3->tensorboard<2.13,>=2.12->tensorflow<3.0.0,>=2.9.0->python-doctr[tf]) (0.3.0)\n",
            "Requirement already satisfied: rsa<5,>=3.1.4 in /usr/local/lib/python3.10/dist-packages (from google-auth<3,>=1.6.3->tensorboard<2.13,>=2.12->tensorflow<3.0.0,>=2.9.0->python-doctr[tf]) (4.9)\n",
            "Requirement already satisfied: requests-oauthlib>=0.7.0 in /usr/local/lib/python3.10/dist-packages (from google-auth-oauthlib<1.1,>=0.5->tensorboard<2.13,>=2.12->tensorflow<3.0.0,>=2.9.0->python-doctr[tf]) (1.3.1)\n",
            "Requirement already satisfied: MarkupSafe>=2.1.1 in /usr/local/lib/python3.10/dist-packages (from werkzeug>=1.0.1->tensorboard<2.13,>=2.12->tensorflow<3.0.0,>=2.9.0->python-doctr[tf]) (2.1.2)\n",
            "Requirement already satisfied: pyasn1<0.6.0,>=0.4.6 in /usr/local/lib/python3.10/dist-packages (from pyasn1-modules>=0.2.1->google-auth<3,>=1.6.3->tensorboard<2.13,>=2.12->tensorflow<3.0.0,>=2.9.0->python-doctr[tf]) (0.5.0)\n",
            "Requirement already satisfied: oauthlib>=3.0.0 in /usr/local/lib/python3.10/dist-packages (from requests-oauthlib>=0.7.0->google-auth-oauthlib<1.1,>=0.5->tensorboard<2.13,>=2.12->tensorflow<3.0.0,>=2.9.0->python-doctr[tf]) (3.2.2)\n",
            "Looking in indexes: https://pypi.org/simple, https://us-python.pkg.dev/colab-wheels/public/simple/\n",
            "Requirement already satisfied: PyPDF2 in /usr/local/lib/python3.10/dist-packages (3.0.1)\n",
            "Looking in indexes: https://pypi.org/simple, https://us-python.pkg.dev/colab-wheels/public/simple/\n",
            "Requirement already satisfied: fpdf in /usr/local/lib/python3.10/dist-packages (1.7.2)\n",
            "Looking in indexes: https://pypi.org/simple, https://us-python.pkg.dev/colab-wheels/public/simple/\n",
            "Requirement already satisfied: rapidfuzz==2.15.1 in /usr/local/lib/python3.10/dist-packages (2.15.1)\n"
          ]
        }
      ],
      "source": [
        "# Main Libs\n",
        "!pip install tensorflow\n",
        "!pip install python-doctr[tf]\n",
        "!pip install PyPDF2\n",
        "!pip install fpdf\n",
        "\n",
        "# Downgraded Libs\n",
        "!pip install rapidfuzz==2.15.1"
      ]
    },
    {
      "cell_type": "markdown",
      "id": "c78b991a",
      "metadata": {
        "id": "c78b991a"
      },
      "source": [
        "**UserWarning** \\\n",
        "If warning message pops up, just ignore it."
      ]
    },
    {
      "cell_type": "code",
      "execution_count": 83,
      "id": "f53e1315",
      "metadata": {
        "id": "f53e1315",
        "scrolled": true
      },
      "outputs": [],
      "source": [
        "import tensorflow as tf\n",
        "import PyPDF2 as pypdf\n",
        "\n",
        "from doctr.io import DocumentFile\n",
        "from doctr.models import ocr_predictor"
      ]
    },
    {
      "cell_type": "markdown",
      "id": "837cca94",
      "metadata": {
        "id": "837cca94"
      },
      "source": [
        "## 2. Building Models\n",
        "So to make OCR works, we need to combine text detection model and text recognition model as an OCR pipeline to recognize text characters. We can use pretrained model from DocTR according to the documentation (https://mindee.github.io/doctr/using_doctr/using_models.html).\n",
        "\n",
        "### Text Detection Model\n",
        "For the text recognition model, we will use **DB ResNet50**. From the DocTR documentation, ResNet50 is one of the top performing text detection model among others.\n",
        "\n",
        "### Text Recognition Model\n",
        "For the text recognition model, we will use **CRNN MobileNetV3 Small**. According to the DocTR documentation, this text recognition model is best to be used for resume or CV screener. Combine it with ResNet50, this model got a top performing precission among other models.\n",
        "\n",
        "**Problem:** \\\n",
        "Training both of these models is somewhat complicated. I had tried to build the models from my local environment, still have no idea how to export it for passing DocTR ocr_predictor arguments. Right now, we will use pretrained model from DocTR itself so it doesn't crash while passing ocr_predictor args. It might be considered rule breaking, but atleast the models are working fine right now. I'm out of time, but further research must be needed in order to build and fine tune the pretrained models with self trained models for the future development."
      ]
    },
    {
      "cell_type": "code",
      "source": [
        "# Not worked, saving for later\n",
        "# from doctr.models import db_resnet50\n",
        "#\n",
        "# model = db_resnet50(pretrained=True)\n",
        "# input_tensor = tf.random.uniform(shape=[1, 1024, 1024, 3], maxval=1, dtype=tf.float32)\n",
        "#\n",
        "# TEXT_DETECTION_ARCHITECTURE = model(input_tensor)"
      ],
      "metadata": {
        "id": "tCSTVFmxyGE1"
      },
      "id": "tCSTVFmxyGE1",
      "execution_count": 84,
      "outputs": []
    },
    {
      "cell_type": "code",
      "source": [
        "# Not worked, saving for later\n",
        "# from doctr.models import crnn_mobilenet_v3_small\n",
        "#\n",
        "# model = crnn_mobilenet_v3_small(pretrained=True)\n",
        "# input_tensor = tf.random.uniform(shape=[1, 32, 128, 3], maxval=1, dtype=tf.float32)\n",
        "#\n",
        "# TEXT_RECOGNITION_ARCHITECTURE = model(input_tensor)"
      ],
      "metadata": {
        "id": "QwbERjmCxltW"
      },
      "id": "QwbERjmCxltW",
      "execution_count": 85,
      "outputs": []
    },
    {
      "cell_type": "markdown",
      "id": "4b3fed1d",
      "metadata": {
        "id": "4b3fed1d"
      },
      "source": [
        "## 3. Extract Text using Trained OCR Models with DocTR\n",
        "To extract text with DocTR, we have to use built in ocr_predictor function from DocTR. This function allow us to use self trained or pretrained models for text detection and text recognition. The ocr_predictor returns a document object with a nested structure (with Page, Block, Line, Word, Artefact)."
      ]
    },
    {
      "cell_type": "code",
      "execution_count": 86,
      "id": "ce830b0d",
      "metadata": {
        "id": "ce830b0d"
      },
      "outputs": [],
      "source": [
        "def extract_with_ocr(file):\n",
        "    # pretrained model\n",
        "    model = ocr_predictor(det_arch='db_resnet50', reco_arch='crnn_mobilenet_v3_small', pretrained=True)\n",
        "\n",
        "    # reading files\n",
        "    document = DocumentFile.from_pdf(file)\n",
        "\n",
        "    # analyze|\n",
        "    result = model(document)\n",
        "\n",
        "    # export to json\n",
        "    output = result.export()\n",
        "\n",
        "    # grouping detected words\n",
        "    separated_words = []\n",
        "    for page in output[\"pages\"]:\n",
        "        for block in page[\"blocks\"]:\n",
        "            for line in block[\"lines\"]:\n",
        "                for word in line[\"words\"]:\n",
        "                    separated_words.append(word[\"value\"])\n",
        "\n",
        "    # combining separated words into sentences\n",
        "    output = \" \".join(separated_words)\n",
        "\n",
        "    return output"
      ]
    },
    {
      "cell_type": "markdown",
      "id": "e5200f3e",
      "metadata": {
        "id": "e5200f3e"
      },
      "source": [
        "The function below is needed to check if the pdf file is a scanned pdf (image based) or digital pdf (text based). If the function didn't detect any characters, it will be considered scanned pdf, so it had to handle extracting text using OCR. If the function detected some characters (100 chars for example) in the pdf file, then it will be considered digital pdf, so it just need to extract text directly from PyPDF2 for better accuracy.\n",
        "\n",
        "This function return strings of extracted text from the pdf file."
      ]
    },
    {
      "cell_type": "code",
      "execution_count": 87,
      "id": "d13ecb70",
      "metadata": {
        "id": "d13ecb70"
      },
      "outputs": [],
      "source": [
        "import re\n",
        "\n",
        "def text_extractor(file):\n",
        "    reader = pypdf.PdfReader(file)\n",
        "    page = reader.pages[0]\n",
        "\n",
        "    chars_count = 100\n",
        "    if len(page.extract_text()) > chars_count:\n",
        "        text = page.extract_text()\n",
        "\n",
        "        clean_text = re.sub('[^\\x1F-\\x7F]+', '', text)\n",
        "        clean_text = re.sub('[_|]', '', clean_text)\n",
        "\n",
        "        return clean_text\n",
        "    else:\n",
        "        return extract_with_ocr(file)"
      ]
    },
    {
      "cell_type": "markdown",
      "id": "1efbd549",
      "metadata": {
        "id": "1efbd549"
      },
      "source": [
        "## 4. Let's Test It\n",
        "This funtion will print out the extracted text from your document. You can play around with any pdf file you want to extract text from. Just change the file_name value to your pdf document path.\n"
      ]
    },
    {
      "cell_type": "markdown",
      "source": [
        "Run the code below if you want to run it with OCR directly"
      ],
      "metadata": {
        "id": "9qCMVKWGvsb3"
      },
      "id": "9qCMVKWGvsb3"
    },
    {
      "cell_type": "code",
      "execution_count": 42,
      "id": "3f504b96",
      "metadata": {
        "colab": {
          "base_uri": "https://localhost:8080/",
          "height": 521
        },
        "id": "3f504b96",
        "outputId": "999ad90d-26cb-402f-f651-057513854eeb"
      },
      "outputs": [
        {
          "output_type": "stream",
          "name": "stdout",
          "text": [
            "Scanned PDF extracted text example:\n"
          ]
        },
        {
          "output_type": "execute_result",
          "data": {
            "text/plain": [
              "'Muhammad Alfian Pratama Linkedin I +62-855-20/8-1007 I e aifianp613.aithub.io. I M altanp613@email.com OGitHub I\\'m a 6th semester student curious and interested in Data Science and Machine Learning. I possess advanced proficiency in Python and Ri programming languages, and Ihave honed my skills in prominent frameworks such as TensorFlow and Flask. lam currently seeking an opportunity to expand and apply my skills through a one semester industry placement, with a particular focus on data-related roles. I am eager to delve deeper into the practical aspects of the field and gain invaluable real-world experience. Skills Education Python I R I HTML I CSS I Javascript I Tableau I Microsoft Excel I Flask I Tensorflow I SPSS I Minitab I MySQL I NoSQL I Firebase Machine Learning I Data Science I Data Analytics I Statistics I Microservices I Backend I English Machine Learning Learning Path Student with Ahead of Schedule Status Specialization Bachelor of Data Science Major in Data Science Technology (GPA 3.88/4). 3rd most outstanding FTMM Universitas Airlangga Student Databases, Spatial Data Analysis. Work Experience Laboratory Assistant Projects Bangkit Academy 2023 By Google, GoTo, & Traveloka Indonesia 02/2023 - Current Magang dan Studi Independen Bersertifikat\" Batch 4 held by Kemendikbud RI Accomplish 6 Specialization Courses from Coursera such as Google Data Analytics, Google IT Automation, Mathematics for Machine Learning Specialization, Machine Learning Specialization, DeepLearning.AI TensorFlow Developer Specialization, and TensorFlow: Data and Deployment Universitas Airlangga Surabaya, Indonesia 09/2020 - Current Related Courses: Programming Algorithm, Calculus, Linear Algebra, Parametric Statistics, Non Statistics, Probability, Computational Statistics, Mathematical Statistics, Multivariate Statistics, Stochastic Process, Survival Analysis, Data Mining, Natural Language Processing, FTMM Universitas Airlangga Surabaya, Indonesia 03/2022 - 07/2022 Laboratory Assistant for Programming Algorithm Assisted Lecturer for scoring practice modules and mentoring for 25 students Bicara Pilpres (Sentiment Analysis Dashboard for Indonesian Presidential Surabaya, Indonesia 12/2022 - 01/2023 Election 2024 Candidates) Firebase Storage. Led the end-to-end development process such as front-end design, software architecture, machine learning model, pipeline. Successfully implemented a microservices architecture, utilizing Python Flask for the main website backend and machine learning API, to enhance the scalability and efficiency of the web application. Also, implemented Firebase to store data using Firebase Firestore Database (NoSQL) and Implemented deployment of the web application on Digital Ocean Droplets, configuring SSL certification and domain integration using Nginx. Achieved secure and reliable web hosting, ensuring optimal performance and user experience. Implemented Progressive Web Application (PWA) for better user experience. This project got Top 50 Hackfest 2023 held by GDSC Indonesia. SIBI (Sistem Bahasa Isyarat Indonesai) Sign Language Alphabetic Implemented Tensorflow Data Generator for augmenting data to reproduce primary data. Achieving 94% accuracy on training data and 90% accuracy on testing data. Surabaya, Indonesia 11/2022 - 12/2022 Classification using Mediapipe Utilized the power of Mediapipe to effectively extract hand landmark points, enabling the training of a cutting-edge machine learning model and the development of real-time detection capabilities. Organizational Experience, Leader GDSC Universitas Airlangga BEM FTMM Universitas Airlangga Surabayo, Indonesia 09/2022 - Current Surabaya, Indonesia 01/2022 - 01/2023 Surabaya, Indonesia 09/2021 - 07/2022 Surabayo, Indonesia 09/2021 - 07/2022 Led a core team of 16 people and engage 500+ member. Held 10 workshops on data science & flutter with an average of 50+ participants. Minister of Science, Research, and Led two sub division with 5 member each sub division. Held 8 event impacting 400+ FTMM students and 200+ external students. Technology Core Team Mentor Staff Ministry of Science and Technology GDSC Universitas Airlangga BEM Universitas Airlangga Be a speaker at the webinar event Info session GDSC UNAIR with the topic Data Science 101 with 100+ participants. Made a Syllabus for workshop, especially workshops that related to Data Science or Machine Learning. Organized Airlangga Scientific Writing Workshop and Competition, impacting 100+ students. Organized Airlangga Scientific Forum with 32 representative participants from every faculty'"
            ],
            "application/vnd.google.colaboratory.intrinsic+json": {
              "type": "string"
            }
          },
          "metadata": {},
          "execution_count": 42
        }
      ],
      "source": [
        "# test scanned pdf\n",
        "print(\"Scanned PDF extracted text example:\")\n",
        "file_name = \"example.pdf\"\n",
        "output = extract_with_ocr(file_name)\n",
        "\n",
        "output"
      ]
    },
    {
      "cell_type": "markdown",
      "source": [
        "Run the code below if you want to run it and let the code decide wether it should be extracted with PyPDF2 or DocTR"
      ],
      "metadata": {
        "id": "nRafPLdLvuU1"
      },
      "id": "nRafPLdLvuU1"
    },
    {
      "cell_type": "code",
      "execution_count": 79,
      "id": "71551b06",
      "metadata": {
        "colab": {
          "base_uri": "https://localhost:8080/",
          "height": 538
        },
        "id": "71551b06",
        "outputId": "279c686f-3688-4da0-b77f-9761cf0b4de7"
      },
      "outputs": [
        {
          "output_type": "stream",
          "name": "stdout",
          "text": [
            "Unconfirmed PDF extracted text example:\n"
          ]
        },
        {
          "output_type": "execute_result",
          "data": {
            "text/plain": [
              "'Muhammad Alfian Pratama   LinkedIn     +62-855-2078 -1007      alfianp613.github.io      alfianp613@gmail.com       GitHub  Im a 6th semester student curious and interested in Data Science and Machine Learning . I possess advanced proficiency in Python and R programming languages, and I have honed my skills in prominent frameworks such as TensorFlow and Flask. I am currently seek ing an opportunity to expand and apply my skills through a one semester industry plac ement, with a particular focus on data -related roles. I am eager to delve deeper into the practical aspects of the field and gain invaluable real -world experience.   Skills          Python  R  HTML  CSS  Javascript  Tableau  Microsoft Excel  Flask  Tensorflow  SPSS  Minitab  MySQL  NoSQL  Fire base     Machine Learning  Data Science  Data Analytics  Statistics  Microservices  Backend  English  Education     Machine Learning Learning Path   Bangkit  Academy 2023 By Google, GoTo, & Traveloka  Indonesia  02/2023 - Current   Magang dan Studi Independen Bersertifikat Batch 4 held by Kemendikbud RI   Student with Ahead of Schedule Status   Accomplish 6 Specialization Courses from Coursera such as Google Data Analytics, Google IT Automation, Mathematics for Machin e Learning Specialization, Machine Learning Specialization, DeepLearning.AI TensorFlow Developer Specialization, and TensorFlow: Da ta and Deployment Specialization  Bachelor of Data Science   Universitas Airlangga  Surabaya , Indonesia  09/2020 - Current   Major in Data Science Technology  (GPA 3.88/4) .  3rd most outstanding FTMM Universitas Airlangga Student   Related Courses: Programming Algorithm, Calculus, Linear Algebra, Parametric Statistics, Non Parametric Statistics, Probabilit y, Computational Statistics,  Mathematical Statistics, Multivariate Statistics, Stochastic Process, Survival Analysis, Data Min ing, Natural Language Processing, Databases, Spatial Data   Analysis.  Work Experience    Laboratory Assistant   FTMM Universitas Airlangga  Surabaya , Indonesia  03/2022 - 07/2022   Laboratory Assistant for Programming Algorithm course s.  Assisted Lecturer for scoring practice modules and mentoring for 25 students   Projects     Bicara Pilpres ( Sentiment Analysis Dashboard for Indonesian Presidential Election 2024 Candidates ) Surabaya, Indonesia  12/2022 - 01/2023   Led the end-to-end development process such as front -end design, software architecture, machine learning model, pipeline.   Successfully implemented a microservices architecture, utilizing Python Flask for the main website backend and machine learni ng API, to enhanc e the scalability and efficiency of the web application.  Also, implemented Firebase to store data using Firebase Firestore Database (NoSQL) and Firebase Storage.   Implemented deployment of the web application on Digital Ocean Droplets, configuring SSL certi fication and domain integration using Nginx.  Achieved secure and reliable web hosting, ensuring optimal performance and user experience.   Implemented Progressive Web Application (PWA) for better user experience.   This project got Top 50 Hackfest 2023 held by  GDSC Indonesia.  SIBI (Sistem Bahasa Isyarat  Indonesai) Sign Language Alphabetic Classification using Mediapipe  Surabaya, Indonesia  11/2022 - 12/2022   Implemented Tensorflow Data Generator for augmenting data to reproduce primary data.   Utilized the power of Mediapipe to effectively extract hand landmark points, enabling the training of a cutting -edge machine learning model and the development of real -time detection capabilities.   Achieving 94% accuracy on training data and 90% accuracy on  testing data.  Organizational Experience   Leader   GDSC Universitas Airlangga  Surabaya, Indonesia  09/2022 - Current   Led a core team of 16 people and engage 500+ member .  Held 10 workshops on data science & flutter with an average of 50+ participants . Minister of Science,  Research, and Technology   BEM FTMM Universitas Airlangga  Surabaya, Indonesia  01/2022  01/2023   Led two sub division with 5 member each sub division.   Held 8 event impacting 400+ FTMM students and 200+ external students.  Core Team Mentor   GDSC Universitas Airlangga  Surabaya, Indonesia  09/2021  07/2022   Be a speaker at the webinar event Info session GDSC UNAIR with the topic Data Science 101 with 100+ participants.   Made a Syllabus for workshop, especially workshops that related to Data Science or Machine Learning.  Staff Ministry of Science and Technology   BEM Universitas Airlangga  Surabaya, Indonesia  09/2021  07/2022   Organized Airlangga Scientific Writing Workshop and Competition, impacting 100+ students.   Organized Airlangga Scientific Forum with 32 representative participants from every faculty  '"
            ],
            "application/vnd.google.colaboratory.intrinsic+json": {
              "type": "string"
            }
          },
          "metadata": {},
          "execution_count": 79
        }
      ],
      "source": [
        "# test unconfirmed pdf\n",
        "print(\"Unconfirmed PDF extracted text example:\")\n",
        "file_name = \"example.pdf\"\n",
        "output = text_extractor(file_name)\n",
        "\n",
        "output"
      ]
    },
    {
      "cell_type": "markdown",
      "source": [
        "# 5. Exporting String Output into PDF\n",
        "Needed for CV Summarization"
      ],
      "metadata": {
        "id": "I7QBB_VFiK7A"
      },
      "id": "I7QBB_VFiK7A"
    },
    {
      "cell_type": "code",
      "execution_count": 80,
      "id": "4aa7712a",
      "metadata": {
        "colab": {
          "base_uri": "https://localhost:8080/",
          "height": 35
        },
        "id": "4aa7712a",
        "outputId": "87f6a23f-78e2-4e8b-f738-233e51f37678"
      },
      "outputs": [
        {
          "output_type": "execute_result",
          "data": {
            "text/plain": [
              "''"
            ],
            "application/vnd.google.colaboratory.intrinsic+json": {
              "type": "string"
            }
          },
          "metadata": {},
          "execution_count": 80
        }
      ],
      "source": [
        "from fpdf import FPDF\n",
        "\n",
        "# save FPDF() class into a\n",
        "# variable pdf\n",
        "pdf = FPDF()\n",
        "# Add a page\n",
        "pdf.add_page()\n",
        "\n",
        "# set style and size of font\n",
        "# that you want in the pdf\n",
        "pdf.set_font(\"Arial\", size = 12)\n",
        "\n",
        "# create a cell\n",
        "pdf.cell(200, 10, txt = output,\n",
        "         ln = 1, align = 'J')\n",
        "\n",
        "# save the pdf with name .pdf\n",
        "pdf.output(\"temp.pdf\")"
      ]
    },
    {
      "cell_type": "code",
      "source": [
        "# test temp pdf\n",
        "file_name = \"temp.pdf\"\n",
        "output = text_extractor(file_name)\n",
        "\n",
        "output"
      ],
      "metadata": {
        "colab": {
          "base_uri": "https://localhost:8080/",
          "height": 521
        },
        "id": "2Y95efSV19tQ",
        "outputId": "0105f2e1-153a-4472-b6f1-160ab1633bea"
      },
      "id": "2Y95efSV19tQ",
      "execution_count": 81,
      "outputs": [
        {
          "output_type": "execute_result",
          "data": {
            "text/plain": [
              "'Muhammad Alfian Pratama   LinkedIn     +62-855-2078 -1007      alfianp613.github.io      alfianp613@gmail.com       GitHub  Im a 6th semester student curious and interested in Data Science and Machine Learning . I possess advanced proficiency in Python and R programming languages, and I have honed my skills in prominent frameworks such as TensorFlow and Flask. I am currently seek ing an opportunity to expand and apply my skills through a one semester industry plac ement, with a particular focus on data -related roles. I am eager to delve deeper into the practical aspects of the field and gain invaluable real -world experience.   Skills          Python  R  HTML  CSS  Javascript  Tableau  Microsoft Excel  Flask  Tensorflow  SPSS  Minitab  MySQL  NoSQL  Fire base     Machine Learning  Data Science  Data Analytics  Statistics  Microservices  Backend  English  Education     Machine Learning Learning Path   Bangkit  Academy 2023 By Google, GoTo, & Traveloka  Indonesia  02/2023 - Current   Magang dan Studi Independen Bersertifikat Batch 4 held by Kemendikbud RI   Student with Ahead of Schedule Status   Accomplish 6 Specialization Courses from Coursera such as Google Data Analytics, Google IT Automation, Mathematics for Machin e Learning Specialization, Machine Learning Specialization, DeepLearning.AI TensorFlow Developer Specialization, and TensorFlow: Da ta and Deployment Specialization  Bachelor of Data Science   Universitas Airlangga  Surabaya , Indonesia  09/2020 - Current   Major in Data Science Technology  (GPA 3.88/4) .  3rd most outstanding FTMM Universitas Airlangga Student   Related Courses: Programming Algorithm, Calculus, Linear Algebra, Parametric Statistics, Non Parametric Statistics, Probabilit y, Computational Statistics,  Mathematical Statistics, Multivariate Statistics, Stochastic Process, Survival Analysis, Data Min ing, Natural Language Processing, Databases, Spatial Data   Analysis.  Work Experience    Laboratory Assistant   FTMM Universitas Airlangga  Surabaya , Indonesia  03/2022 - 07/2022   Laboratory Assistant for Programming Algorithm course s.  Assisted Lecturer for scoring practice modules and mentoring for 25 students   Projects     Bicara Pilpres ( Sentiment Analysis Dashboard for Indonesian Presidential Election 2024 Candidates ) Surabaya, Indonesia  12/2022 - 01/2023   Led the end-to-end development process such as front -end design, software architecture, machine learning model, pipeline.   Successfully implemented a microservices architecture, utilizing Python Flask for the main website backend and machine learni ng API, to enhanc e the scalability and efficiency of the web application.  Also, implemented Firebase to store data using Firebase Firestore Database (NoSQL) and Firebase Storage.   Implemented deployment of the web application on Digital Ocean Droplets, configuring SSL certi fication and domain integration using Nginx.  Achieved secure and reliable web hosting, ensuring optimal performance and user experience.   Implemented Progressive Web Application (PWA) for better user experience.   This project got Top 50 Hackfest 2023 held by  GDSC Indonesia.  SIBI (Sistem Bahasa Isyarat  Indonesai) Sign Language Alphabetic Classification using Mediapipe  Surabaya, Indonesia  11/2022 - 12/2022   Implemented Tensorflow Data Generator for augmenting data to reproduce primary data.   Utilized the power of Mediapipe to effectively extract hand landmark points, enabling the training of a cutting -edge machine learning model and the development of real -time detection capabilities.   Achieving 94% accuracy on training data and 90% accuracy on  testing data.  Organizational Experience   Leader   GDSC Universitas Airlangga  Surabaya, Indonesia  09/2022 - Current   Led a core team of 16 people and engage 500+ member .  Held 10 workshops on data science & flutter with an average of 50+ participants . Minister of Science,  Research, and Technology   BEM FTMM Universitas Airlangga  Surabaya, Indonesia  01/2022  01/2023   Led two sub division with 5 member each sub division.   Held 8 event impacting 400+ FTMM students and 200+ external students.  Core Team Mentor   GDSC Universitas Airlangga  Surabaya, Indonesia  09/2021  07/2022   Be a speaker at the webinar event Info session GDSC UNAIR with the topic Data Science 101 with 100+ participants.   Made a Syllabus for workshop, especially workshops that related to Data Science or Machine Learning.  Staff Ministry of Science and Technology   BEM Universitas Airlangga  Surabaya, Indonesia  09/2021  07/2022   Organized Airlangga Scientific Writing Workshop and Competition, impacting 100+ students.   Organized Airlangga Scientific Forum with 32 representative participants from every faculty  '"
            ],
            "application/vnd.google.colaboratory.intrinsic+json": {
              "type": "string"
            }
          },
          "metadata": {},
          "execution_count": 81
        }
      ]
    },
    {
      "cell_type": "markdown",
      "id": "337b8232",
      "metadata": {
        "id": "337b8232"
      },
      "source": [
        "---\n",
        "# Summary\n",
        "So, this OCR file works just fine. The OCR models predict the words with good accuracy too. But, those models used comes from DocTR pretrained model, so they are already guaranteed that the result of text extraction will be great. Self trained models will be used if they can work properly with DocTR ocr_predictor function args. Further research must be conducted to re-evaluating and remodeling for precission improvement of the OCR models."
      ]
    },
    {
      "cell_type": "code",
      "execution_count": null,
      "id": "d77ea7d5",
      "metadata": {
        "id": "d77ea7d5"
      },
      "outputs": [],
      "source": [
        "# Thanks"
      ]
    }
  ],
  "metadata": {
    "colab": {
      "provenance": []
    },
    "kernelspec": {
      "display_name": "Python 3.10.11 ('talentease')",
      "language": "python",
      "name": "python3"
    },
    "language_info": {
      "codemirror_mode": {
        "name": "ipython",
        "version": 3
      },
      "file_extension": ".py",
      "mimetype": "text/x-python",
      "name": "python",
      "nbconvert_exporter": "python",
      "pygments_lexer": "ipython3",
      "version": "3.9.16"
    },
    "vscode": {
      "interpreter": {
        "hash": "00d6bfbf0318ea386fca9a6f1e34e89dfe01dc0d94f309c9fa2c9daa7692de77"
      }
    }
  },
  "nbformat": 4,
  "nbformat_minor": 5
}