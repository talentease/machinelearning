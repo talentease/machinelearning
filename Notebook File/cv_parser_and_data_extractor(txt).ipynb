{
  "nbformat": 4,
  "nbformat_minor": 0,
  "metadata": {
    "colab": {
      "provenance": []
    },
    "kernelspec": {
      "name": "python3",
      "display_name": "Python 3"
    },
    "language_info": {
      "name": "python"
    }
  },
  "cells": [
    {
      "cell_type": "markdown",
      "source": [
        "## Import the necessary libraries:"
      ],
      "metadata": {
        "id": "FNNT5Rv99spe"
      }
    },
    {
      "cell_type": "code",
      "source": [
        "import io\n",
        "!pip install PyPDF2\n",
        "import PyPDF2\n",
        "import chardet\n",
        "import re\n",
        "import pandas as pd"
      ],
      "metadata": {
        "colab": {
          "base_uri": "https://localhost:8080/"
        },
        "id": "DnngbjGV9oh5",
        "outputId": "202c92cd-5dec-4e58-c991-89504231d0c8"
      },
      "execution_count": 3,
      "outputs": [
        {
          "output_type": "stream",
          "name": "stdout",
          "text": [
            "Looking in indexes: https://pypi.org/simple, https://us-python.pkg.dev/colab-wheels/public/simple/\n",
            "Collecting PyPDF2\n",
            "  Downloading pypdf2-3.0.1-py3-none-any.whl (232 kB)\n",
            "\u001b[2K     \u001b[90m━━━━━━━━━━━━━━━━━━━━━━━━━━━━━━━━━━━━━━\u001b[0m \u001b[32m232.6/232.6 kB\u001b[0m \u001b[31m15.2 MB/s\u001b[0m eta \u001b[36m0:00:00\u001b[0m\n",
            "\u001b[?25hInstalling collected packages: PyPDF2\n",
            "Successfully installed PyPDF2-3.0.1\n"
          ]
        }
      ]
    },
    {
      "cell_type": "markdown",
      "source": [
        "# Load the dataset"
      ],
      "metadata": {
        "id": "EEqplmlG_SDT"
      }
    },
    {
      "cell_type": "code",
      "source": [
        "skills_data = pd.read_csv('/content/skills.csv')"
      ],
      "metadata": {
        "id": "KP3PM5B2_UAg"
      },
      "execution_count": 4,
      "outputs": []
    },
    {
      "cell_type": "markdown",
      "source": [
        "## Function to parse txt file"
      ],
      "metadata": {
        "id": "mYeFSZbV_2OJ"
      }
    },
    {
      "cell_type": "code",
      "source": [
        "def parse_resume(file_path):\n",
        "    text = \"\"\n",
        "\n",
        "    # Open the file\n",
        "    with open(file_path, 'rb') as file:\n",
        "        raw_data = file.read()\n",
        "        encoding_result = chardet.detect(raw_data)\n",
        "        encoding = encoding_result['encoding']\n",
        "    with open(file_path, 'r', encoding=encoding) as file:\n",
        "        resume_text = file.read()\n",
        "\n",
        "    # Extract name, email, and phone number\n",
        "    name_pattern = r\"([A-Z][a-z]+)\\s+([A-Z][a-z]+)\"\n",
        "    name_match = re.search(name_pattern, resume_text)\n",
        "    name = name_match.group() if name_match else None\n",
        "\n",
        "    email_pattern = r\"\\b[A-Za-z0-9._%+-]+@[A-Za-z0-9.-]+\\.[A-Z|a-z]{2,}\\b\"\n",
        "    email_match = re.search(email_pattern, resume_text, re.I)\n",
        "    email = email_match.group() if email_match else None\n",
        "\n",
        "    phone_pattern = r\"\\(?\\d{3}\\)?[-.\\s]?\\d{3}[-.\\s]?\\d{4}\"\n",
        "    phone_match = re.search(phone_pattern, resume_text)\n",
        "    phone = phone_match.group() if phone_match else None\n",
        "\n",
        "    # Extract skills\n",
        "    skills_datasets = [skills_data]\n",
        "    skills = []\n",
        "    for dataset in skills_datasets:\n",
        "        skills_pattern = r\"\\b(?:{})\\b\".format(\"|\".join(map(re.escape, dataset['Skill'].dropna())))\n",
        "        skills_match = re.findall(skills_pattern, resume_text, re.IGNORECASE)\n",
        "        skills.extend(skills_match)\n",
        "\n",
        "    skills = ', '.join(skills) if skills else None\n",
        "\n",
        "    # Extract experience\n",
        "    experience_pattern = r\"EXPERIENCE\\n+(.*?)(?:\\n{2,}|$)\"\n",
        "    experience_match = re.search(experience_pattern, resume_text, re.DOTALL | re.IGNORECASE)\n",
        "    experience = experience_match.group(1).strip() if experience_match else None\n",
        "\n",
        "    experience = re.sub(r'\\n\\s*', ' ', experience) if experience else None\n",
        "\n",
        "    # Extract education\n",
        "    education_pattern = r\"EDUCATION\\n+(.*?)(?:\\n{2,}|$)\"\n",
        "    education_match = re.search(education_pattern, resume_text, re.DOTALL | re.IGNORECASE)\n",
        "    education = education_match.group(1).strip() if education_match else None\n",
        "\n",
        "    # Return the extracted data as a dictionary\n",
        "    extracted_data = {\n",
        "        'name': name,\n",
        "        'email': email,\n",
        "        'phone': phone,\n",
        "        'skills': skills,\n",
        "        'experience': experience,\n",
        "        'education': education\n",
        "    }\n",
        "    return extracted_data"
      ],
      "metadata": {
        "id": "PGYjSbYX_0Xq"
      },
      "execution_count": 13,
      "outputs": []
    },
    {
      "cell_type": "markdown",
      "source": [
        "## Testing"
      ],
      "metadata": {
        "id": "Xij6X_0W__Kk"
      }
    },
    {
      "cell_type": "code",
      "source": [
        "file = '/content/resume.txt'\n",
        "data = parse_resume(file)\n",
        "print(\"Name:\", data.get('name'))\n",
        "print(\"Email:\", data.get('email'))\n",
        "print(\"Phone:\", data.get('phone'))\n",
        "print(\"Skills:\", data.get('skills'))\n",
        "print(\"Experience:\", data.get('experience'))\n",
        "print(\"Education:\", data.get('education'))"
      ],
      "metadata": {
        "colab": {
          "base_uri": "https://localhost:8080/"
        },
        "id": "nohuTfb8AAv3",
        "outputId": "6b634b80-56fb-4abe-e16f-3455fe566ee2"
      },
      "execution_count": 15,
      "outputs": [
        {
          "output_type": "stream",
          "name": "stdout",
          "text": [
            "Name: Casey Hall\n",
            "Email: casey.z.hall@gmail.com\n",
            "Phone: 916-566-6124\n",
            "Skills: gmail, .com\n",
            ", analytical, customer service, banking, BANKING, due diligence, international, operations, risk assessments, banking, reports, marketing, sales, payments, Customer Service, banking, customer service, Economics\n",
            ", finance, pressure\n",
            ", Financial planning\n",
            ", Risk assessment, Customer service, Problem solving\n",
            ", Technical skills, CFA\n",
            "Experience: BANKING ANALYST RJ Savings and Trust Dec 2016- Dec 2019 Managed 100 investors’ due diligence processes and coordinated with international operations managers when required. Performed financial risk assessments and studied banking and financial market trends to prepare activity and progress reports to management. Navigated marketing activities by reaching out to 150+ VC and lead 5% prospects. Key achievement Conducted valuation report on $20 million swaps deal for a tech company which resulted in 35% rise in corporate earnings. ASSOCIATE BANKER Merriweather Bank Sept 2015-Dec 2016 Reviewed and processed credit and loan applications according to best practices and law. Supported identifying potential sales opportunities to new business clients. Handling daily reconcilement of payments as well as maintaining incoming and outgoing cash records. Key Achievement Earned Customer Service Award twice for excellence and professionalism in banking customer service. ~~~~~~~~~~~~~~~~~~~~~~~~~~~~~~~~~~~~~~~~~~~~~~~~~~~~~~~~~~~~~~~~~~~~ EDUCATION 2011-2014, B.A. in Economics University of South Dakota President of the student finance club for 1 year. ~~~~~~~~~~~~~~~~~~~~~~~~~~~~~~~~~~~~~~~~~~~~~~~~~~~~~~~~~~~~~~~~~~~~ SKILLS Ability to work under pressure Financial planning Risk assessment Customer service Problem solving Technical skills Interpersonal skills ~~~~~~~~~~~~~~~~~~~~~~~~~~~~~~~~~~~~~~~~~~~~~~~~~~~~~~~~~~~~~~~~~~~~ CERTIFICATIONS Certified Financial Planner (CFP) Certified Financial Analyst (CFA)\n",
            "Education: 2011-2014, B.A. in Economics\n",
            "University of South Dakota\n",
            " \n",
            "President of the student finance club for 1 year.\n",
            "~~~~~~~~~~~~~~~~~~~~~~~~~~~~~~~~~~~~~~~~~~~~~~~~~~~~~~~~~~~~~~~~~~~~\n",
            "SKILLS\n",
            " \n",
            "Ability to work under pressure\n",
            "Financial planning\n",
            "Risk assessment\n",
            "Customer service\n",
            "Problem solving\n",
            "Technical skills\n",
            "Interpersonal skills\n",
            "~~~~~~~~~~~~~~~~~~~~~~~~~~~~~~~~~~~~~~~~~~~~~~~~~~~~~~~~~~~~~~~~~~~~\n",
            "CERTIFICATIONS\n",
            " \n",
            "Certified Financial Planner (CFP)\n",
            "Certified Financial Analyst (CFA)\n"
          ]
        }
      ]
    }
  ]
}