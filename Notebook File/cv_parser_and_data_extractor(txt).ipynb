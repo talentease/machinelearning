{
  "cells": [
    {
      "cell_type": "markdown",
      "metadata": {
        "id": "FNNT5Rv99spe"
      },
      "source": [
        "## Import the necessary libraries:"
      ]
    },
    {
      "cell_type": "code",
      "execution_count": 1,
      "metadata": {
        "colab": {
          "base_uri": "https://localhost:8080/"
        },
        "id": "DnngbjGV9oh5",
        "outputId": "d75fd6bb-63ae-4c11-d123-e5065825695b"
      },
      "outputs": [],
      "source": [
        "import io\n",
        "import PyPDF2\n",
        "import chardet\n",
        "import re\n",
        "import pandas as pd"
      ]
    },
    {
      "cell_type": "markdown",
      "metadata": {
        "id": "EEqplmlG_SDT"
      },
      "source": [
        "# Load the datasets"
      ]
    },
    {
      "cell_type": "code",
      "execution_count": 2,
      "metadata": {
        "id": "KP3PM5B2_UAg"
      },
      "outputs": [],
      "source": [
        "skills_data = pd.read_csv('skills.csv')"
      ]
    },
    {
      "cell_type": "markdown",
      "metadata": {
        "id": "mYeFSZbV_2OJ"
      },
      "source": [
        "## Function to parse txt file"
      ]
    },
    {
      "cell_type": "code",
      "execution_count": 8,
      "metadata": {
        "id": "PGYjSbYX_0Xq"
      },
      "outputs": [],
      "source": [
        "def parse_resume(resume_text):\n",
        "    # text = \"\"\n",
        "\n",
        "    # # Extract text from PDF resumes\n",
        "    # with open(file_path, 'rb') as file:\n",
        "    #     raw_data = file.read()\n",
        "    #     encoding_result = chardet.detect(raw_data)\n",
        "    #     encoding = encoding_result['encoding']\n",
        "    # with open(file_path, 'r', encoding=encoding) as file:\n",
        "    #     resume_text = file.read()\n",
        "\n",
        "    # Extract name, email, and phone number (existing code)\n",
        "    name_pattern = r\"([A-Z][a-z]+)\\s+([A-Z][a-z]+)\"\n",
        "    name_match = re.search(name_pattern, resume_text)\n",
        "    name = name_match.group() if name_match else None\n",
        "\n",
        "    email_pattern = r\"\\b[A-Za-z0-9._%+-]+@[A-Za-z0-9.-]+\\.[A-Z|a-z]{2,}\\b\"\n",
        "    email_match = re.search(email_pattern, resume_text, re.I)\n",
        "    email = email_match.group() if email_match else None\n",
        "\n",
        "    phone_pattern = r\"\\(?\\d{3}\\)?[-.\\s]?\\d{3}[-.\\s]?\\d{4}\"\n",
        "    phone_match = re.search(phone_pattern, resume_text)\n",
        "    phone = phone_match.group() if phone_match else None\n",
        "\n",
        "    # Extract skills using multiple datasets\n",
        "    skills_datasets = [skills_data]\n",
        "    skills = []\n",
        "    for dataset in skills_datasets:\n",
        "        skills_pattern = r\"\\b(?:{})\\b\".format(\"|\".join(map(re.escape, dataset['Skill'].dropna())))\n",
        "        skills_match = re.findall(skills_pattern, resume_text, re.IGNORECASE)\n",
        "        skills.extend(skills_match)\n",
        "\n",
        "    skills = ', '.join(skills) if skills else None\n",
        "\n",
        "    # Extract experience\n",
        "    experience_pattern = r\"EXPERIENCE\\n+(.*?)(?:\\n{2,}|$)\"\n",
        "    experience_match = re.search(experience_pattern, resume_text, re.DOTALL | re.IGNORECASE)\n",
        "    experience = experience_match.group(1).strip() if experience_match else None\n",
        "\n",
        "    experience = re.sub(r'\\n\\s*', ' ', experience) if experience else None\n",
        "\n",
        "    # Extract education (existing code)\n",
        "    education_pattern = r\"EDUCATION\\n+(.*?)(?:\\n{2,}|$)\"\n",
        "    education_match = re.search(education_pattern, resume_text, re.DOTALL | re.IGNORECASE)\n",
        "    education = education_match.group(1).strip() if education_match else None\n",
        "\n",
        "    # Return the extracted data as a dictionary\n",
        "    extracted_data = {\n",
        "        'name': name,\n",
        "        'email': email,\n",
        "        'phone': phone,\n",
        "        'skills': skills,\n",
        "        'experience': experience,\n",
        "        'education': education\n",
        "    }\n",
        "    return extracted_data"
      ]
    },
    {
      "cell_type": "markdown",
      "metadata": {
        "id": "Xij6X_0W__Kk"
      },
      "source": [
        "## Testing"
      ]
    },
    {
      "cell_type": "code",
      "execution_count": 9,
      "metadata": {
        "colab": {
          "base_uri": "https://localhost:8080/"
        },
        "id": "nohuTfb8AAv3",
        "outputId": "eddde96d-5393-4e69-a6b1-ac5c599627da"
      },
      "outputs": [
        {
          "name": "stdout",
          "output_type": "stream",
          "text": [
            "Name: Muhammad Alfian\n",
            "Email: alfianp613@gmail.com\n",
            "Phone: None\n",
            "Skills: github, gmail, GitHub, Machine Learning, R, programming, TensorFlow, Flask, Python, R, HTML, CSS, Javascript, Tableau, Microsoft Excel, Flask, Tensorflow, MySQL, NoSQL, Machine Learning, Data Analytics, Statistics, English, Machine Learning, Schedule, Data Analytics, Automation, Mathematics, Machine Learning, Machine Learning, AI, TensorFlow, TensorFlow, Programming, Calculus, Statistics, Statistics, Statistics, Statistics, Statistics, Process, Analysis, Mining, Analysis, Programming, Analysis, process, design, architecture, machine learning, architecture, Python, Flask, website, API, scala, Database, NoSQL, certification, user experience, user experience, GitHub, Tensorflow, training, machine learning, training, testing, Research, Machine Learning, Writing\n",
            "Experience: None\n",
            "Education: None\n"
          ]
        }
      ],
      "source": [
        "import PyPDF2 as pdf\n",
        "\n",
        "reader = pdf.PdfReader(\"Muhammad Alfian Pratama new resume.pdf\")\n",
        "page = reader.pages[0]\n",
        "text = page.extract_text()\n",
        "# file = '/content/resume3.txt'\n",
        "data = parse_resume(text)\n",
        "print(\"Name:\", data.get('name'))\n",
        "print(\"Email:\", data.get('email'))\n",
        "print(\"Phone:\", data.get('phone'))\n",
        "print(\"Skills:\", data.get('skills'))\n",
        "print(\"Experience:\", data.get('experience'))\n",
        "print(\"Education:\", data.get('education'))"
      ]
    },
    {
      "cell_type": "code",
      "execution_count": null,
      "metadata": {
        "colab": {
          "base_uri": "https://localhost:8080/"
        },
        "id": "nAfK9CHswl9E",
        "outputId": "15342f7a-3068-4f65-d898-32400b3c0527"
      },
      "outputs": [
        {
          "name": "stdout",
          "output_type": "stream",
          "text": [
            "Name: Casey Hall\n",
            "Email: casey.z.hall@gmail.com\n",
            "Phone: 916-566-6124\n",
            "Skills: Ability to work under pressure\n",
            "Financial planning\n",
            "Risk assessment\n",
            "Customer service\n",
            "Problem solving\n",
            "Technical skills\n",
            "Interpersonal skills\n",
            "~~~~~~~~~~~~~~~~~~~~~~~~~~~~~~~~~~~~~~~~~~~~~~~~~~~~~~~~~~~~~~~~~~~~\n",
            "CERTIFICATIONS\n",
            " \n",
            "Certified Financial Planner (CFP)\n",
            "Certified Financial Analyst (CFA)\n",
            "Experience:\n",
            "BANKING ANALYST\n",
            "RJ Savings and Trust\n",
            "Dec 2016- Dec 2019\n",
            "Managed 100 investors’ due diligence processes and coordinated with international operations managers when required.\n",
            "Performed financial risk assessments and studied banking and financial market trends to prepare activity and progress reports to management.\n",
            "Navigated marketing activities by reaching out to 150+ VC and lead 5% prospects.\n",
            " \n",
            "Key achievement\n",
            "Conducted valuation report on $20 million swaps deal for a tech company which resulted in 35% rise in corporate earnings.\n",
            " \n",
            "ASSOCIATE BANKER\n",
            "Merriweather Bank\n",
            "Sept 2015-Dec 2016\n",
            " \n",
            "Reviewed and processed credit and loan applications according to best practices and law.\n",
            "Supported identifying potential sales opportunities to new business clients.\n",
            "Handling daily reconcilement of payments as well as maintaining incoming and outgoing cash records.\n",
            " \n",
            "Key Achievement\n",
            "Earned Customer Service Award twice for excellence and professionalism in banking customer service.\n",
            "~~~~~~~~~~~~~~~~~~~~~~~~~~~~~~~~~~~~~~~~~~~~~~~~~~~~~~~~~~~~~~~~~~~~\n",
            "EDUCATION\n",
            " \n",
            "2011-2014, B.A. in Economics\n",
            "University of South Dakota\n",
            " \n",
            "President of the student finance club for 1 year.\n",
            "~~~~~~~~~~~~~~~~~~~~~~~~~~~~~~~~~~~~~~~~~~~~~~~~~~~~~~~~~~~~~~~~~~~~\n",
            "SKILLS\n",
            " \n",
            "Ability to work under pressure\n",
            "Financial planning\n",
            "Risk assessment\n",
            "Customer service\n",
            "Problem solving\n",
            "Technical skills\n",
            "Interpersonal skills\n",
            "~~~~~~~~~~~~~~~~~~~~~~~~~~~~~~~~~~~~~~~~~~~~~~~~~~~~~~~~~~~~~~~~~~~~\n",
            "CERTIFICATIONS\n",
            " \n",
            "Certified Financial Planner (CFP)\n",
            "Certified Financial Analyst (CFA)\n",
            "Education:\n",
            "2011-2014, B.A. in Economics\n",
            "University of South Dakota\n",
            " \n",
            "President of the student finance club for 1 year.\n",
            "~~~~~~~~~~~~~~~~~~~~~~~~~~~~~~~~~~~~~~~~~~~~~~~~~~~~~~~~~~~~~~~~~~~~\n",
            "SKILLS\n",
            " \n",
            "Ability to work under pressure\n",
            "Financial planning\n",
            "Risk assessment\n",
            "Customer service\n",
            "Problem solving\n",
            "Technical skills\n",
            "Interpersonal skills\n",
            "~~~~~~~~~~~~~~~~~~~~~~~~~~~~~~~~~~~~~~~~~~~~~~~~~~~~~~~~~~~~~~~~~~~~\n",
            "CERTIFICATIONS\n",
            " \n",
            "Certified Financial Planner (CFP)\n",
            "Certified Financial Analyst (CFA)\n"
          ]
        }
      ],
      "source": [
        "\"\"\"\n",
        "import io\n",
        "import PyPDF2\n",
        "import chardet\n",
        "\n",
        "def parse_resume(file_path):\n",
        "    text = \"\"\n",
        "\n",
        "    # Extract text from PDF resumes\n",
        "    with open(file_path, 'rb') as file:\n",
        "      raw_data = file.read()\n",
        "      encoding_result = chardet.detect(raw_data)\n",
        "      encoding = encoding_result['encoding']\n",
        "    with open(file_path, 'r', encoding=encoding) as file:\n",
        "      resume_text = file.read()\n",
        "\n",
        "    # Extract name\n",
        "    name_pattern = r\"([A-Z][a-z]+)\\s+([A-Z][a-z]+)\"\n",
        "    name_match = re.search(name_pattern, resume_text)\n",
        "    name = name_match.group() if name_match else None\n",
        "\n",
        "    # Extract email\n",
        "    email_pattern = r\"\\b[A-Za-z0-9._%+-]+@[A-Za-z0-9.-]+\\.[A-Z|a-z]{2,}\\b\"\n",
        "    email_match = re.search(email_pattern, resume_text, re.I)\n",
        "    email = email_match.group() if email_match else None\n",
        "\n",
        "    # Extract phone number\n",
        "    phone_pattern = r\"\\(?\\d{3}\\)?[-.\\s]?\\d{3}[-.\\s]?\\d{4}\"\n",
        "    phone_match = re.search(phone_pattern, resume_text)\n",
        "    phone = phone_match.group() if phone_match else None\n",
        "\n",
        "    # Extract skills\n",
        "    skills_pattern = r\"SKILLS\\n+(.+?)(?:\\n{2,}|$)\"\n",
        "    skills_match = re.search(skills_pattern, resume_text, re.DOTALL | re.IGNORECASE)\n",
        "    skills = skills_match.group(1).strip() if skills_match else None\n",
        "\n",
        "    # Extract experience\n",
        "    experience_pattern = r\"WORK EXPERIENCE\\n+(.*?)(?:\\n{2,}|$)\"\n",
        "    experience_match = re.search(experience_pattern, resume_text, re.DOTALL | re.IGNORECASE)\n",
        "    experience = experience_match.group(1).strip() if experience_match else None\n",
        "\n",
        "    # Extract education\n",
        "    education_pattern = r\"EDUCATION\\n+(.*?)(?:\\n{2,}|$)\"\n",
        "    education_match = re.search(education_pattern, resume_text, re.DOTALL | re.IGNORECASE)\n",
        "    education = education_match.group(1).strip() if education_match else None\n",
        "\n",
        "    # Return the extracted data as a dictionary\n",
        "    extracted_data = {\n",
        "        'name': name,\n",
        "        'email': email,\n",
        "        'phone': phone,\n",
        "        'skills': skills,\n",
        "        'experience': experience,\n",
        "        'education': education\n",
        "    }\n",
        "    return extracted_data\n",
        "# Usage\n",
        "file = '/content/resume.txt'\n",
        "data = parse_resume(file)\n",
        "print(\"Name:\", data.get('name'))\n",
        "print(\"Email:\", data.get('email'))\n",
        "print(\"Phone:\", data.get('phone'))\n",
        "print(\"Skills:\", data.get('skills'))\n",
        "print(\"Experience:\")\n",
        "print(data.get('experience'))\n",
        "print(\"Education:\")\n",
        "print(data.get('education'))\n",
        "\"\"\""
      ]
    }
  ],
  "metadata": {
    "colab": {
      "provenance": []
    },
    "kernelspec": {
      "display_name": "Python 3.9.16 ('talentease')",
      "language": "python",
      "name": "python3"
    },
    "language_info": {
      "codemirror_mode": {
        "name": "ipython",
        "version": 3
      },
      "file_extension": ".py",
      "mimetype": "text/x-python",
      "name": "python",
      "nbconvert_exporter": "python",
      "pygments_lexer": "ipython3",
      "version": "3.9.16"
    },
    "vscode": {
      "interpreter": {
        "hash": "00d6bfbf0318ea386fca9a6f1e34e89dfe01dc0d94f309c9fa2c9daa7692de77"
      }
    }
  },
  "nbformat": 4,
  "nbformat_minor": 0
}
