{
 "cells": [
  {
   "cell_type": "code",
   "execution_count": 2,
   "metadata": {},
   "outputs": [],
   "source": [
    "import firebase_admin\n",
    "from firebase_admin import credentials, firestore, storage\n",
    "import requests\n",
    "import json \n"
   ]
  },
  {
   "cell_type": "code",
   "execution_count": 2,
   "metadata": {},
   "outputs": [],
   "source": [
    "cred = firebase_admin.credentials.Certificate(\"talentease-project-firebase-adminsdk-db1kq-66426f47e0.json\")\n",
    "firebase_admin.initialize_app(cred)\n",
    "db = firestore.client()  # this connects to our Firestore database"
   ]
  },
  {
   "cell_type": "code",
   "execution_count": 7,
   "metadata": {},
   "outputs": [
    {
     "name": "stdout",
     "output_type": "stream",
     "text": [
      "{'skills': 'microservices, technology, advanced, programming languages, mentoring, python, digital, design, 6, store, javascript, 07, sign language, engage, 3, processing, gmail, multivariate statistics, training, software architecture, status, flask, linear algebra, nginx, natural language, 5, research, data science, io, html, delve, focus, project, storage, bem, spss, workshops, r, application, 4, .com, edge, linkedin, 8, 12, it, 10, skills, minitab, microsoft, one, 16, projects, user experience, firebase, particular, google, sentiment analysis, database, excel, coursera, architecture, machine learning, mathematical statistics, learning, led, english, tensorflow, data, process, ai, pwa, analysis, schedule, 09, website, api, mysql, web, ssl, data analytics, tableau, programming, 11, github, spatial data, css, pipeline, survival analysis, classification, base, databases, integration, scientific writing, automation, mathematics, nosql, e learning, testing, statistics, scalability, calculus, dashboard', 'summary': 'Skilled Data Science student with advanced proficiency in Python and R programming languages. Proficient in TensorFlow and Flask, with experience in front-end design, software architecture, machine learning model, and more. Holds a Bachelor of Data Science with a General in Data Science from FTMM Universitas Airlangga Surabaya.'}\n"
     ]
    }
   ],
   "source": [
    "r = requests.post(\"http://127.0.0.1:8080/api/prediction\",\n",
    "        json={\"id\":\"1\"})\n",
    "data = r.json()\n",
    "print(data)"
   ]
  },
  {
   "cell_type": "code",
   "execution_count": 14,
   "metadata": {},
   "outputs": [
    {
     "data": {
      "text/plain": [
       "<Response [500]>"
      ]
     },
     "execution_count": 14,
     "metadata": {},
     "output_type": "execute_result"
    }
   ],
   "source": [
    "r"
   ]
  },
  {
   "cell_type": "code",
   "execution_count": 31,
   "metadata": {},
   "outputs": [],
   "source": [
    "from google.cloud import storage\n",
    "from google.oauth2 import service_account\n",
    "credentials = service_account.Credentials.from_service_account_file(\"talentease-project-firebase-adminsdk-db1kq-66426f47e0.json\")"
   ]
  },
  {
   "cell_type": "code",
   "execution_count": 32,
   "metadata": {},
   "outputs": [],
   "source": [
    "storage_client = storage.Client(credentials=credentials)"
   ]
  },
  {
   "cell_type": "code",
   "execution_count": 33,
   "metadata": {},
   "outputs": [],
   "source": [
    "bucket = storage_client.bucket(\"talentease-project.appspot.com\")"
   ]
  },
  {
   "cell_type": "code",
   "execution_count": 35,
   "metadata": {},
   "outputs": [],
   "source": [
    "blob = bucket.blob(\"CV/2.pdf\").download_to_filename(\"2.pdf\")"
   ]
  },
  {
   "cell_type": "code",
   "execution_count": 42,
   "metadata": {},
   "outputs": [],
   "source": [
    "import PyPDF2 as pdf\n",
    "\n",
    "reader = pdf.PdfReader(\"2.pdf\")\n",
    "page = reader.pages[0]\n",
    "text = page.extract_text()"
   ]
  },
  {
   "cell_type": "code",
   "execution_count": 43,
   "metadata": {},
   "outputs": [
    {
     "data": {
      "text/plain": [
       "2389"
      ]
     },
     "execution_count": 43,
     "metadata": {},
     "output_type": "execute_result"
    }
   ],
   "source": [
    "len(text.split(\" \"))"
   ]
  },
  {
   "cell_type": "code",
   "execution_count": 26,
   "metadata": {},
   "outputs": [],
   "source": [
    "import os\n",
    "os.remove(\"temp/1.pdf\")"
   ]
  },
  {
   "cell_type": "code",
   "execution_count": 4,
   "metadata": {},
   "outputs": [],
   "source": [
    "cred = firebase_admin.credentials.Certificate(\"talentease-project-firebase-adminsdk-db1kq-66426f47e0.json\")\n",
    "firebase_admin.initialize_app(cred)\n",
    "db = firestore.client()"
   ]
  },
  {
   "cell_type": "code",
   "execution_count": 6,
   "metadata": {},
   "outputs": [
    {
     "name": "stdout",
     "output_type": "stream",
     "text": [
      "Document data: {'skills': ['English', 'Calculus', 'Css', 'Process', 'Machine learning', 'User experience', 'Api', 'Python', 'Design', 'Analysis', 'Training', 'Github', 'Mining', 'Flask', 'Automation', 'Website', 'Database', 'Analytics', 'Mysql', 'Research', 'Tensorflow', 'Excel', 'Tableau', 'Mathematics', 'Ai', 'R', 'Testing', 'Html', 'Nosql', 'Schedule', 'Certification', 'Statistics', 'Architecture', 'Javascript', 'Programming', 'Writing'], 'summary': 'Skilled Data Science student with advanced proficiency in Python and R programming languages. Proficient in TensorFlow and Flask, with experience in front-end design, software architecture, machine learning model, and more. Holds a Bachelor of Data Science with a General in Data Science from FTMM Universitas Airlangga Surabaya.', 'experience': ['Laboratory Assistant', 'FTMM Universitas Airlangga', 'Surabaya, Indonesia', '03/2022 - 07/2022', '•  Laboratory Assistant for Programming Algorithm courses.', '•  Assisted Lecturer for scoring practice modules and mentoring for 25 students']}\n"
     ]
    }
   ],
   "source": [
    "doc_ref = db.collection('ml test').document('1')\n",
    "\n",
    "doc = doc_ref.get()\n",
    "if doc.exists:\n",
    "    print(f'Document data: {doc.to_dict()}')\n",
    "else:\n",
    "    print('No such document!')"
   ]
  },
  {
   "cell_type": "code",
   "execution_count": null,
   "metadata": {},
   "outputs": [],
   "source": []
  }
 ],
 "metadata": {
  "kernelspec": {
   "display_name": "Python 3.10.11 ('talentease')",
   "language": "python",
   "name": "python3"
  },
  "language_info": {
   "codemirror_mode": {
    "name": "ipython",
    "version": 3
   },
   "file_extension": ".py",
   "mimetype": "text/x-python",
   "name": "python",
   "nbconvert_exporter": "python",
   "pygments_lexer": "ipython3",
   "version": "3.9.16"
  },
  "orig_nbformat": 4,
  "vscode": {
   "interpreter": {
    "hash": "00d6bfbf0318ea386fca9a6f1e34e89dfe01dc0d94f309c9fa2c9daa7692de77"
   }
  }
 },
 "nbformat": 4,
 "nbformat_minor": 2
}
