{
 "cells": [
  {
   "cell_type": "code",
   "execution_count": 2,
   "metadata": {},
   "outputs": [],
   "source": [
    "import firebase_admin\n",
    "from firebase_admin import credentials, firestore, storage\n",
    "import requests\n",
    "import json "
   ]
  },
  {
   "cell_type": "code",
   "execution_count": 2,
   "metadata": {},
   "outputs": [],
   "source": [
    "cred = firebase_admin.credentials.Certificate(\"talentease-project-firebase-adminsdk-db1kq-66426f47e0.json\")\n",
    "firebase_admin.initialize_app(cred)\n",
    "db = firestore.client()  # this connects to our Firestore database"
   ]
  },
  {
   "cell_type": "code",
   "execution_count": 3,
   "metadata": {},
   "outputs": [
    {
     "name": "stdout",
     "output_type": "stream",
     "text": [
      "{'response': 'Hasil prediksi berhasil masuk ke database!'}\n"
     ]
    }
   ],
   "source": [
    "r = requests.post(\"http://127.0.0.1:5000/api/prediction\",\n",
    "        json={\"id\":\"1\"})\n",
    "data = r.json()\n",
    "print(data)"
   ]
  },
  {
   "cell_type": "code",
   "execution_count": 11,
   "metadata": {},
   "outputs": [],
   "source": [
    "from google.cloud import storage\n",
    "from google.oauth2 import service_account\n",
    "credentials = service_account.Credentials.from_service_account_file(\"talentease-project-firebase-adminsdk-db1kq-66426f47e0.json\")"
   ]
  },
  {
   "cell_type": "code",
   "execution_count": 12,
   "metadata": {},
   "outputs": [],
   "source": [
    "storage_client = storage.Client(credentials=credentials)"
   ]
  },
  {
   "cell_type": "code",
   "execution_count": 13,
   "metadata": {},
   "outputs": [],
   "source": [
    "bucket = storage_client.bucket(\"talentease-project.appspot.com\")"
   ]
  },
  {
   "cell_type": "code",
   "execution_count": 23,
   "metadata": {},
   "outputs": [],
   "source": [
    "blob = bucket.blob(\"CV/1.pdf\").download_to_filename(\"temp/1.pdf\")"
   ]
  },
  {
   "cell_type": "code",
   "execution_count": 24,
   "metadata": {},
   "outputs": [],
   "source": [
    "import PyPDF2 as pdf\n",
    "\n",
    "reader = pdf.PdfReader(\"temp/1.pdf\")\n",
    "page = reader.pages[0]\n",
    "text = page.extract_text()"
   ]
  },
  {
   "cell_type": "code",
   "execution_count": 26,
   "metadata": {},
   "outputs": [],
   "source": [
    "import os\n",
    "os.remove(\"temp/1.pdf\")"
   ]
  },
  {
   "cell_type": "code",
   "execution_count": 4,
   "metadata": {},
   "outputs": [],
   "source": [
    "cred = firebase_admin.credentials.Certificate(\"talentease-project-firebase-adminsdk-db1kq-66426f47e0.json\")\n",
    "firebase_admin.initialize_app(cred)\n",
    "db = firestore.client()"
   ]
  },
  {
   "cell_type": "code",
   "execution_count": 6,
   "metadata": {},
   "outputs": [
    {
     "name": "stdout",
     "output_type": "stream",
     "text": [
      "Document data: {'skills': ['English', 'Calculus', 'Css', 'Process', 'Machine learning', 'User experience', 'Api', 'Python', 'Design', 'Analysis', 'Training', 'Github', 'Mining', 'Flask', 'Automation', 'Website', 'Database', 'Analytics', 'Mysql', 'Research', 'Tensorflow', 'Excel', 'Tableau', 'Mathematics', 'Ai', 'R', 'Testing', 'Html', 'Nosql', 'Schedule', 'Certification', 'Statistics', 'Architecture', 'Javascript', 'Programming', 'Writing'], 'summary': 'Skilled Data Science student with advanced proficiency in Python and R programming languages. Proficient in TensorFlow and Flask, with experience in front-end design, software architecture, machine learning model, and more. Holds a Bachelor of Data Science with a General in Data Science from FTMM Universitas Airlangga Surabaya.', 'experience': ['Laboratory Assistant', 'FTMM Universitas Airlangga', 'Surabaya, Indonesia', '03/2022 - 07/2022', '•  Laboratory Assistant for Programming Algorithm courses.', '•  Assisted Lecturer for scoring practice modules and mentoring for 25 students']}\n"
     ]
    }
   ],
   "source": [
    "doc_ref = db.collection('ml test').document('1')\n",
    "\n",
    "doc = doc_ref.get()\n",
    "if doc.exists:\n",
    "    print(f'Document data: {doc.to_dict()}')\n",
    "else:\n",
    "    print('No such document!')"
   ]
  },
  {
   "cell_type": "code",
   "execution_count": null,
   "metadata": {},
   "outputs": [],
   "source": []
  }
 ],
 "metadata": {
  "kernelspec": {
   "display_name": "Python 3.10.11 ('talentease')",
   "language": "python",
   "name": "python3"
  },
  "language_info": {
   "codemirror_mode": {
    "name": "ipython",
    "version": 3
   },
   "file_extension": ".py",
   "mimetype": "text/x-python",
   "name": "python",
   "nbconvert_exporter": "python",
   "pygments_lexer": "ipython3",
   "version": "3.9.16"
  },
  "orig_nbformat": 4,
  "vscode": {
   "interpreter": {
    "hash": "00d6bfbf0318ea386fca9a6f1e34e89dfe01dc0d94f309c9fa2c9daa7692de77"
   }
  }
 },
 "nbformat": 4,
 "nbformat_minor": 2
}
